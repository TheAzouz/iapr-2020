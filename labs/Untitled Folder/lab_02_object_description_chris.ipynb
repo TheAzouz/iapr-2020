{
 "cells": [
  {
   "cell_type": "markdown",
   "metadata": {},
   "source": [
    "# [IAPR 2020:][iapr2020] Lab 2 ‒  Object description\n",
    "\n",
    "**Authors:** first_name_1 last_name_1, first_name_2 last_name_2, first_name_3 last_name_3  \n",
    "**Due date:** 24.04.2020\n",
    "\n",
    "[iapr2020]: https://github.com/LTS5/iapr-2020"
   ]
  },
  {
   "cell_type": "markdown",
   "metadata": {},
   "source": [
    "## Extract relevant data\n",
    "We first need to extract the `lab-02-data.tar.gz` archive.\n",
    "To this end, we use the [tarfile] module from the Python standard library.\n",
    "\n",
    "[tarfile]: https://docs.python.org/3.6/library/tarfile.html"
   ]
  },
  {
   "cell_type": "code",
   "execution_count": 2,
   "metadata": {},
   "outputs": [],
   "source": [
    "import tarfile\n",
    "import os\n",
    "\n",
    "data_base_path = os.path.join(os.pardir, 'data')\n",
    "data_folder = 'lab-02-data'\n",
    "tar_path = os.path.join(data_base_path, data_folder + '.tar.gz')\n",
    "with tarfile.open(tar_path, mode='r:gz') as tar:\n",
    "    tar.extractall(path=data_base_path)"
   ]
  },
  {
   "cell_type": "markdown",
   "metadata": {},
   "source": [
    "## Part 1\n",
    "In the `lab-02-data/part1` folder, you will find 28x28 grey-scale pictures of handwritten \"0\" and \"1\".\n",
    "These digits have been extracted from MNIST dataset (http://yann.lecun.com/exdb/mnist/).\n",
    "\n",
    "Your goal is to extract, from each of those images, a 2-dimensional feature vector (i.e. 2 features) and to plot them all on a 2D graph.\n",
    "If you have chosen good features, the vectors of the \"0\"'s should nicely cluster in one part of the plane and those of the \"1\"'s in another.\n",
    "\n",
    "Please try first the Fourier Descriptors.\n",
    "You can make several attempts: e.g. with and without invariance to rotation, translation, scaling, etc.\n",
    "You can also for instance rotate the images and assess the invariance in rotation.\n",
    "\n",
    "**Note:** for the Fourier descriptors, the u_k signal has to be constructed by following the contour point after point.\n",
    "Some pre-processing (image binarization, possibly some Mathematical Morphology) might be useful.\n",
    "\n",
    "Then feel free to try other features, the more you try, the better it will be (for you)."
   ]
  },
  {
   "cell_type": "markdown",
   "metadata": {},
   "source": [
    "### 1.1 Data visualization"
   ]
  },
  {
   "cell_type": "code",
   "execution_count": 3,
   "metadata": {},
   "outputs": [
    {
     "data": {
      "image/png": "[encoded data removed]",
      "text/plain": [
       "<Figure size 864x216 with 20 Axes>"
      ]
     },
     "metadata": {
      "needs_background": "light"
     },
     "output_type": "display_data"
    }
   ],
   "source": [
    "import skimage.io\n",
    "import matplotlib.pyplot as plt\n",
    "%matplotlib inline\n",
    "\n",
    "# Load images\n",
    "data_base_path = os.path.join(os.pardir, 'data')\n",
    "data_folder = 'lab-02-data'\n",
    "#  Load zeros\n",
    "zeros_path = os.path.join(data_base_path, data_folder, 'part1', '0')\n",
    "zeros_names = [nm for nm in os.listdir(zeros_path) if '.png' in nm]  # make sure to only load .png\n",
    "zeros_names.sort()  # sort file names\n",
    "ic = skimage.io.imread_collection([os.path.join(zeros_path, nm) for nm in zeros_names])\n",
    "zeros_im = skimage.io.concatenate_images(ic)\n",
    "#  Load ones\n",
    "ones_path = os.path.join(data_base_path, data_folder, 'part1', '1')\n",
    "ones_names = [nm for nm in os.listdir(ones_path) if '.png' in nm]  # make sure to only load .png\n",
    "ones_names.sort()  # sort file names\n",
    "ic = skimage.io.imread_collection(([os.path.join(ones_path, nm) for nm in ones_names]))\n",
    "ones_im = skimage.io.concatenate_images(ic)\n",
    "\n",
    "# Plot images\n",
    "fig, axes = plt.subplots(2, len(zeros_im), figsize=(12, 3))\n",
    "for ax, im, nm in zip(axes[0], zeros_im, zeros_names):\n",
    "    ax.imshow(im, cmap='gray')\n",
    "    ax.axis('off')\n",
    "    ax.set_title(nm)\n",
    "for ax, im, nm in zip(axes[1], ones_im, ones_names):\n",
    "    ax.imshow(im, cmap='gray')\n",
    "    ax.axis('off')\n",
    "    ax.set_title(nm)"
   ]
  },
  {
   "cell_type": "code",
   "execution_count": 4,
   "metadata": {},
   "outputs": [],
   "source": [
    "import numpy as np\n",
    "from scipy.optimize import curve_fit\n",
    "import cv2\n",
    "from sklearn.cluster import KMeans, SpectralClustering\n",
    "from scipy import ndimage\n",
    "from sklearn.mixture import GaussianMixture\n",
    "from skimage import measure\n",
    "\n",
    "from skimage.transform import SimilarityTransform\n",
    "from skimage.transform import warp"
   ]
  },
  {
   "cell_type": "markdown",
   "metadata": {},
   "source": [
    "### 1.2 Fourier descriptors"
   ]
  },
  {
   "cell_type": "markdown",
   "metadata": {},
   "source": [
    "#### At first, we are going to define functions used to preprocess the image with a low-pass filter and to compute the complex contour."
   ]
  },
  {
   "cell_type": "code",
   "execution_count": 5,
   "metadata": {},
   "outputs": [],
   "source": [
    "images = np.append(zeros_im,ones_im,axis = 0)"
   ]
  },
  {
   "cell_type": "code",
   "execution_count": 6,
   "metadata": {},
   "outputs": [],
   "source": [
    "def low_pass_filter(img,size):\n",
    "    '''\n",
    "    Low-pass filter applied to the simple images in order to get rid of noise.\n",
    "    \n",
    "    Input: grayscale image\n",
    "    Output: filtered image\n",
    "    \n",
    "    '''\n",
    "    Kernel = np.ones((size,size),np.float32)/size**2\n",
    "    return ndimage.filters.convolve(img, Kernel)"
   ]
  },
  {
   "cell_type": "markdown",
   "metadata": {},
   "source": [
    "The low-pass filter is designed to avoid increasing the energy of the preprocessed image."
   ]
  },
  {
   "cell_type": "code",
   "execution_count": 7,
   "metadata": {},
   "outputs": [],
   "source": [
    "def get_ordered_contour(im):\n",
    "    '''\n",
    "    Contour detection function based on the simple images we have.\n",
    "    \n",
    "    Input: grayscale image\n",
    "    Output: contour of the main feature ( In our application, handwritten digits )\n",
    "    \n",
    "    '''\n",
    "    im = im = low_pass_filter(im,3)\n",
    "    contours = measure.find_contours(im, 50)\n",
    "    contours_array = []\n",
    "    for n, contour in enumerate(contours):\n",
    "        for x,y in contour:\n",
    "            contours_array.append((x,y))\n",
    "    contours_array = np.array(contours_array).astype(int)\n",
    "        \n",
    "    return contours_array"
   ]
  },
  {
   "cell_type": "markdown",
   "metadata": {},
   "source": [
    "#### Create the complex number from the detected contour:   $ u_k = x_k + j*y_k $"
   ]
  },
  {
   "cell_type": "code",
   "execution_count": 8,
   "metadata": {},
   "outputs": [],
   "source": [
    "def complex_contour_vector(img):\n",
    "    '''\n",
    "    Compute the complex contour out of a contour which type is a np array\n",
    "    \n",
    "    Input: np array containing the contour coordinates\n",
    "    Output: Complex contour and a binary contour image \n",
    "    \n",
    "    '''\n",
    "    contour_array = get_ordered_contour(img)\n",
    "    contour_img = np.zeros(img.shape)\n",
    "    uk = []\n",
    "    \n",
    "    for k in contour_array:\n",
    "        uk.append(np.vectorize(complex)(k[0],k[1]))\n",
    "        contour_img[k[0],k[1]] = 1\n",
    "    uk = np.array(uk)\n",
    "    \n",
    "    return uk, contour_img"
   ]
  },
  {
   "cell_type": "markdown",
   "metadata": {},
   "source": [
    "#### Compute and plot DFT (FFT) : "
   ]
  },
  {
   "cell_type": "code",
   "execution_count": 9,
   "metadata": {},
   "outputs": [],
   "source": [
    "def dft_computation(img,n_descriptor, first_descriptor):\n",
    "    '''\n",
    "    Compute the selected fourier descriptors\n",
    "    \n",
    "    Input: grayscale image, the number of requested fourier descriptors and the first fourier descriptor. \n",
    "    Output: The fourier descriptors and the binary contour image\n",
    "    \n",
    "    '''\n",
    "    uk, contour_img = complex_contour_vector(img)\n",
    "    sp = np.fft.fft(uk)\n",
    "    freq = np.fft.fftfreq(len(uk))\n",
    "    \n",
    "    return sp[first_descriptor:n_descriptor+first_descriptor],contour_img"
   ]
  },
  {
   "cell_type": "markdown",
   "metadata": {},
   "source": [
    "#### We are now going to display how we can make use of a clustering algorithm on our fourier descriptors to reveal the variance between our objects\n",
    "\n",
    "Let's first observe the results of previous functions through the following binary contour image. It displays the contour used to compute the complex signal used in our dicrete fourier transform function. "
   ]
  },
  {
   "cell_type": "code",
   "execution_count": 10,
   "metadata": {},
   "outputs": [
    {
     "data": {
      "image/png": "[encoded data removed]",
      "text/plain": [
       "<Figure size 1728x216 with 20 Axes>"
      ]
     },
     "metadata": {
      "needs_background": "light"
     },
     "output_type": "display_data"
    }
   ],
   "source": [
    "fig, axes = plt.subplots(1, len(images), figsize=(24, 3))\n",
    "\n",
    "n_descriptor = 2\n",
    "first_descriptor = 0\n",
    "\n",
    "for ax, im in zip(axes, images):\n",
    "    sp, contour  = dft_computation(im, n_descriptor, first_descriptor)\n",
    "    ax.imshow(contour, cmap='gray')\n",
    "    ax.axis('off')"
   ]
  },
  {
   "cell_type": "markdown",
   "metadata": {},
   "source": [
    "#### Classify according to the two selected features\n",
    "\n",
    "Two fourier descriptors are selected, ideally the first two as the amount of information decreased as we progress in the list of fourier descriptors computed. These descriptors are used to compute a set of samples used in the Kmeans clustering algorithms."
   ]
  },
  {
   "cell_type": "code",
   "execution_count": 11,
   "metadata": {},
   "outputs": [
    {
     "data": {
      "image/png": "[encoded data removed]",
      "text/plain": [
       "<Figure size 432x288 with 1 Axes>"
      ]
     },
     "metadata": {
      "needs_background": "light"
     },
     "output_type": "display_data"
    }
   ],
   "source": [
    "features = []\n",
    "contours = []\n",
    "images = np.append(zeros_im,ones_im,axis = 0)\n",
    "\n",
    "n_descriptor = 2\n",
    "first_descriptor = 0\n",
    "\n",
    "for im in images:\n",
    "    sp,contour = dft_computation(im, n_descriptor, first_descriptor)\n",
    "    features.append(sp)\n",
    "    contours.append(contour)\n",
    "features = np.absolute(np.array(features))\n",
    "\n",
    "kmeans = KMeans(n_clusters=2, random_state=0).fit(features)\n",
    "kmeans.labels_\n",
    "LABEL_COLOR_MAP = {0 : 'r', 1 : 'k'}\n",
    "MARKER_MAP = {0 : 'v', 1: 'o', 2: '*', 3:'X'}\n",
    "markers = [MARKER_MAP[i//10] for i in range(images.shape[0])]\n",
    "label_color = [LABEL_COLOR_MAP[l] for l in kmeans.labels_]\n",
    "\n",
    "fig, ax = plt.subplots()\n",
    "for xp, yp, color, m in zip(features[:,0], features[:,1], label_color, markers):\n",
    "    ax.scatter([xp],[yp],c = color, marker=m)\n",
    "plt.show()"
   ]
  },
  {
   "cell_type": "markdown",
   "metadata": {},
   "source": [
    "We can observe that the algorithm assigned two different labels through colors and markers to point out the difference between the two clusters we set in the function. The two clusters illustrate a necessary high extravariance and low intravariance to differentiate both family objects.\n",
    "\n",
    "Finally, the next plot confirm that the correct labels were assigned to the correct image."
   ]
  },
  {
   "cell_type": "code",
   "execution_count": 12,
   "metadata": {},
   "outputs": [
    {
     "data": {
      "image/png": "[encoded data removed]",
      "text/plain": [
       "<Figure size 1728x216 with 20 Axes>"
      ]
     },
     "metadata": {
      "needs_background": "light"
     },
     "output_type": "display_data"
    }
   ],
   "source": [
    "LABEL_NAME_MAP =  {1 : '0', 0 : '1'}\n",
    "img_name = [LABEL_NAME_MAP[l] for l in kmeans.labels_]\n",
    "\n",
    "fig, axes = plt.subplots(1, len(images), figsize=(24, 3))\n",
    "for ax, im, nm in zip(axes, images, img_name):\n",
    "    ax.imshow(im, cmap='gray')\n",
    "    ax.axis('off')\n",
    "    ax.set_title(nm)"
   ]
  },
  {
   "cell_type": "markdown",
   "metadata": {},
   "source": [
    "#### Now we are going to show the translational invariance\n",
    "\n",
    "Having successfully separated the two set of images, we are now going to study how this method display invariant characteristics. We can start by applying a similarity transformation by shifting images throuf the y-axis. We then apply the method of fourier descriptors to clssify the images with the correct expected target labels \"zero\" and \"one\". "
   ]
  },
  {
   "cell_type": "code",
   "execution_count": 13,
   "metadata": {},
   "outputs": [
    {
     "data": {
      "image/png": "[encoded data removed]",
      "text/plain": [
       "<Figure size 432x288 with 1 Axes>"
      ]
     },
     "metadata": {
      "needs_background": "light"
     },
     "output_type": "display_data"
    }
   ],
   "source": [
    "# Transforming images with a translation:\n",
    "tform = SimilarityTransform(translation=(0, 2))\n",
    "\n",
    "warped = []\n",
    "features = []\n",
    "contours = []\n",
    "\n",
    "# add comment\n",
    "for im in images:\n",
    "    warped.append(warp(im, tform))\n",
    "warped_translation = 255*np.array(warped)\n",
    "\n",
    "n_descriptor = 2\n",
    "first_descriptor = 1\n",
    "\n",
    "# add comment\n",
    "for im in warped_translation:\n",
    "    sp,contour = dft_computation(im, n_descriptor, first_descriptor)\n",
    "    features.append(sp)\n",
    "    contours.append(contour)\n",
    "features = np.array(features)\n",
    "X = np.append(features.real,features.imag,axis=1)\n",
    "features = np.absolute(features)\n",
    "\n",
    "# add comment\n",
    "kmeans = KMeans(n_clusters=2, random_state=0).fit(features)\n",
    "kmeans.labels_\n",
    "LABEL_COLOR_MAP = {0 : 'r', 1 : 'k'}\n",
    "MARKER_MAP = {0 : 'v', 1: 'o', 2: '*', 3:'X'}\n",
    "markers = [MARKER_MAP[i//10] for i in range(images.shape[0])]\n",
    "label_color = [LABEL_COLOR_MAP[l] for l in kmeans.labels_]\n",
    "\n",
    "fig, ax = plt.subplots()\n",
    "for xp, yp, color, m in zip(features[:,0], features[:,1], label_color, markers):\n",
    "    ax.scatter([xp],[yp],c = color, marker=m)\n",
    "plt.show()"
   ]
  },
  {
   "cell_type": "markdown",
   "metadata": {},
   "source": [
    "As expected, we can observe that the method of fourier descriptor is robust to translation transformations on images. The previous plot and the next one shows that by selecting accordingly the fourier descriptors, we can display the invariance on translation of the fourier descritpors' method. To do so, second and third fourier descriptors were selected. As seen in class, the first descriptor is sensitive to translation transformation on images and need to be avoided. "
   ]
  },
  {
   "cell_type": "code",
   "execution_count": 14,
   "metadata": {},
   "outputs": [
    {
     "data": {
      "image/png": "[encoded data removed]",
      "text/plain": [
       "<Figure size 1728x216 with 20 Axes>"
      ]
     },
     "metadata": {
      "needs_background": "light"
     },
     "output_type": "display_data"
    }
   ],
   "source": [
    "LABEL_NAME_MAP =  {1 : '0', 0 : '1'}\n",
    "img_name = [LABEL_NAME_MAP[l] for l in kmeans.labels_]\n",
    "\n",
    "fig, axes = plt.subplots(1, len(warped_translation), figsize=(24, 3))\n",
    "for ax, im, nm in zip(axes, warped_translation, img_name):\n",
    "    ax.imshow(im, cmap='gray')\n",
    "    ax.axis('off')\n",
    "    ax.set_title(nm)"
   ]
  },
  {
   "cell_type": "markdown",
   "metadata": {},
   "source": [
    "#### Now we are going to show the scaling invariance"
   ]
  },
  {
   "cell_type": "code",
   "execution_count": 15,
   "metadata": {},
   "outputs": [],
   "source": [
    "def dft_computation_scalling(img,n_descriptor,first_descriptor):\n",
    "    '''\n",
    "    Compute the selected fourier descriptors in the case of scaling invariance\n",
    "    \n",
    "    Input: grayscale image, the number of requested fourier descriptors and the first fourier descriptor. \n",
    "    Output: The fourier descriptors divided by the first fourier descriptor and the binary contour image.\n",
    "    \n",
    "    '''\n",
    "    uk, contour_img = complex_contour_vector(img)\n",
    "    sp = np.fft.fft(uk)\n",
    "    sp[1] /= sp[0]\n",
    "    sp[2] /= sp[0]\n",
    "    freq = np.fft.fftfreq(len(uk))\n",
    "    \n",
    "    return sp[first_descriptor:n_descriptor+first_descriptor],contour_img"
   ]
  },
  {
   "cell_type": "code",
   "execution_count": 16,
   "metadata": {},
   "outputs": [
    {
     "data": {
      "image/png": "[encoded data removed]",
      "text/plain": [
       "<Figure size 432x288 with 1 Axes>"
      ]
     },
     "metadata": {
      "needs_background": "light"
     },
     "output_type": "display_data"
    },
    {
     "data": {
      "image/png": "[encoded data removed]",
      "text/plain": [
       "<Figure size 432x288 with 1 Axes>"
      ]
     },
     "metadata": {
      "needs_background": "light"
     },
     "output_type": "display_data"
    }
   ],
   "source": [
    "features = []\n",
    "contours = []\n",
    "features_scaling = []\n",
    "contours_scaling = []\n",
    "images = np.append(zeros_im,ones_im,axis = 0)\n",
    "\n",
    "n_descriptor = 2\n",
    "first_descriptor = 1\n",
    "\n",
    "for im in images:\n",
    "    sp,contour = dft_computation(im, n_descriptor, first_descriptor)\n",
    "    features.append(sp)\n",
    "    contours.append(contour)\n",
    "features = np.array(features)\n",
    "X = np.append(features.real,features.imag,axis=1)\n",
    "features = np.absolute(features)\n",
    "\n",
    "for im in images:\n",
    "    sp_scaling,contour_scaling = dft_computation_scalling(im, n_descriptor, first_descriptor)\n",
    "    features_scaling.append(sp_scaling)\n",
    "    contours_scaling.append(contours_scaling)\n",
    "features_scaling = np.array(features_scaling)\n",
    "X = np.append(features_scaling.real,features.imag,axis=1)\n",
    "features_scaling = np.absolute(features_scaling)\n",
    "\n",
    "kmeans = KMeans(n_clusters=2, random_state=0).fit(features)\n",
    "kmeans.labels_\n",
    "LABEL_COLOR_MAP = {0 : 'r', 1 : 'k'}\n",
    "MARKER_MAP = {0 : 'v', 1: 'o', 2: '*', 3:'X'}\n",
    "markers = [MARKER_MAP[i//10] for i in range(images.shape[0])]\n",
    "label_color = [LABEL_COLOR_MAP[l] for l in kmeans.labels_]\n",
    "\n",
    "fig, ax = plt.subplots()\n",
    "for xp, yp, color, m in zip(features[:,0], features[:,1], label_color, markers):\n",
    "    ax.scatter([xp],[yp],c = color, marker=m)\n",
    "plt.title('No scaling')\n",
    "plt.show()\n",
    "\n",
    "fig, ax = plt.subplots()\n",
    "for xp, yp, color, m in zip(features_scaling[:,0], features_scaling[:,1], label_color, markers):\n",
    "    ax.scatter([xp],[yp],c = color, marker=m)   \n",
    "plt.title('Scaling')\n",
    "plt.show()"
   ]
  },
  {
   "cell_type": "markdown",
   "metadata": {},
   "source": [
    "For this experiment, we have set up the scalling transformation by divided second and third descriptor by the first one. This allows to observe a shrinkage between the two images above. Indeed, we can observe how the intra-classe variance is affected by this transformation. We can also notice that the clustering algorithm successfuly divided the two classes of objects independently of the scalling transformation. Thus, we have demonstrated the scalling invariance of this method. "
   ]
  },
  {
   "cell_type": "markdown",
   "metadata": {},
   "source": [
    "### 1.3 Additional method(s)"
   ]
  },
  {
   "cell_type": "markdown",
   "metadata": {},
   "source": [
    "#### Code Chain"
   ]
  },
  {
   "cell_type": "markdown",
   "metadata": {},
   "source": [
    "The first alternative method we looked at is Code Chain. Code chain is a method that associates a string of directional values to the contour of an image.\n",
    "\n",
    "First we needed to set up a funciton that could turn the images binary. Based uppon the histogram of the first zero given in our list, we chose to start our binary threshold at a value of 100. This would leave only purely white and black pixels.\n",
    "\n",
    "Then we need to find the first pixel of the image number and start the algorithme that creates the string. We used the Freeman algorithm to do this with some simple algebriac trics to make sure we always start by checking the inside of the number for it's border."
   ]
  },
  {
   "cell_type": "code",
   "execution_count": 17,
   "metadata": {},
   "outputs": [],
   "source": [
    "def binaryImage(im):\n",
    "    '''\n",
    "    Threshold function that returns values of 0 or 255 if image pixel values are within thresholds\n",
    "    \n",
    "    Input: image\n",
    "    Output: 0 or 255 'binary' image\n",
    "    '''\n",
    "    im_filt = low_pass_filter(im,3)\n",
    "    im_binary = cv2.inRange(im_filt,100,255) #threshold values found from \n",
    "    return im_binary"
   ]
  },
  {
   "cell_type": "code",
   "execution_count": 18,
   "metadata": {},
   "outputs": [],
   "source": [
    "def freemanStart(im):\n",
    "    '''\n",
    "    Simple number start detection function\n",
    "    Scans image rows and columns until it finds logical pixel value of 1\n",
    "    \n",
    "    Input: binarized image\n",
    "    Output: pixel position one step to the left of first pixel belonging to the number\n",
    "    '''\n",
    "    for i, row in enumerate(im):\n",
    "        for j, value in enumerate(row):\n",
    "            if value == 255:\n",
    "                startPoint = (i, j-1) #-1 to make sure the start point is part of the contour points chain\n",
    "                return startPoint\n",
    "            else : continue"
   ]
  },
  {
   "cell_type": "code",
   "execution_count": 19,
   "metadata": {},
   "outputs": [],
   "source": [
    "def freemanString(im):\n",
    "    '''\n",
    "    Function detecting the the edge of an image and contourning the border following Freeman directional values\n",
    "    Freeman direction values:\n",
    "    | 3 2 1 |\n",
    "    | 4 X 0 |\n",
    "    | 5 6 7 |\n",
    "    \n",
    "    Input: Binarized image\n",
    "    Output: Pixel positions of the number contour, freeman chain direction values\n",
    "    '''\n",
    "    dir_code = [0,1,2,3,4,5,6,7]\n",
    "    next_i   = [0,-1,-1,-1,0,1,1,1] #rows\n",
    "    next_j   = [1,1,0,-1,-1,-1,0,1] #columns\n",
    "    \n",
    "    \n",
    "    start_point = freemanStart(im)\n",
    "    curr_point  = start_point\n",
    "    contour = []\n",
    "    chain = []\n",
    "\n",
    "    for direction in dir_code:\n",
    "        next_point = (curr_point[0]+next_i[direction],curr_point[1]+next_j[direction])\n",
    "        if im[next_point] != 255:\n",
    "            contour.append(next_point)\n",
    "            chain.append(direction)\n",
    "            curr_point = next_point\n",
    "            break\n",
    "\n",
    "    last = 0\n",
    "    while 1:\n",
    "        if curr_point == start_point: last = 1\n",
    "        #choose search starting direction to always rotate clockwise\n",
    "        start_dir = (direction + 5) % 8\n",
    "        dir1 = range(start_dir, 8)\n",
    "        dir2 = range(0, start_dir)\n",
    "        dirc = []\n",
    "        dirc.extend(dir1)\n",
    "        dirc.extend(dir2)\n",
    "        for direction in dirc:\n",
    "            next_point = (curr_point[0]+next_i[direction],curr_point[1]+next_j[direction])\n",
    "            if im[next_point] != 255:\n",
    "                contour.append(next_point)\n",
    "                chain.append(direction)\n",
    "                curr_point = next_point\n",
    "                break\n",
    "        if last == 1 : break\n",
    "            \n",
    "    return contour,chain"
   ]
  },
  {
   "cell_type": "code",
   "execution_count": 27,
   "metadata": {
    "scrolled": false
   },
   "outputs": [
    {
     "name": "stdout",
     "output_type": "stream",
     "text": [
      "Example chain code string for image 5 of ones and plotted contour on binary number: \n",
      "\n",
      "[1, 7, 7, 6, 6, 6, 6, 6, 6, 6, 6, 6, 6, 6, 6, 6, 0, 0, 7, 6, 6, 5, 4, 4, 4, 4, 4, 4, 4, 4, 5, 4, 5, 4, 4, 3, 2, 2, 1, 0, 1, 0, 0, 1, 7, 1, 2, 2, 2, 2, 3, 4, 5, 4, 4, 4, 3, 2, 1, 0, 0, 1, 1, 1, 2, 1, 2, 1, 1]\n"
     ]
    },
    {
     "data": {
      "text/plain": [
       "(-0.5, 27.5, 27.5, -0.5)"
      ]
     },
     "execution_count": 27,
     "metadata": {},
     "output_type": "execute_result"
    },
    {
     "data": {
      "image/png": "[encoded data removed]",
      "text/plain": [
       "<Figure size 432x288 with 1 Axes>"
      ]
     },
     "metadata": {
      "needs_background": "light"
     },
     "output_type": "display_data"
    }
   ],
   "source": [
    "im_test = binaryImage(ones_im[5])\n",
    "contour,chain = freemanString(im_test)\n",
    "print('Example chain code string for image 5 of ones and plotted contour on binary number: \\n')\n",
    "print(chain)\n",
    "plt.imshow(im_test,cmap='gray')\n",
    "plt.plot([i[1] for i in contour], [i[0] for i in contour],'r')\n",
    "plt.axis('off')"
   ]
  },
  {
   "cell_type": "markdown",
   "metadata": {},
   "source": [
    "In this example, we can see the binary version of the 5th number 'one' and it's contour as detected by our Freeman algorithm. As we can see, it sticks pretty well to the visual contour. We will check bellow all the other numbers to make sure there aren't any problems."
   ]
  },
  {
   "cell_type": "code",
   "execution_count": 28,
   "metadata": {},
   "outputs": [
    {
     "data": {
      "image/png": "[encoded data removed]",
      "text/plain": [
       "<Figure size 1728x216 with 80 Axes>"
      ]
     },
     "metadata": {
      "needs_background": "light"
     },
     "output_type": "display_data"
    }
   ],
   "source": [
    "fig, axes = plt.subplots(2, len(images), figsize=(24, 3))\n",
    "for ax, im in zip(axes[0], images):\n",
    "    ax.imshow(im, cmap='gray')\n",
    "    ax.axis('off')\n",
    "    \n",
    "for ax, im in zip(axes[1], images):\n",
    "    im_free = binaryImage(im)\n",
    "    ax.imshow(im_free, cmap='gray')\n",
    "    contour,chain = freemanString(im_free)\n",
    "    ax.plot([i[1] for i in contour], [i[0] for i in contour],'r')\n",
    "    ax.axis('off')"
   ]
  },
  {
   "cell_type": "code",
   "execution_count": 29,
   "metadata": {},
   "outputs": [],
   "source": [
    "# here we choose the two \"typical\" chain based on how the images appear to be closest to a \"basic\" or \"normal\" one and zero\n",
    "chain_typ_one  = freemanString(binaryImage(ones_im[3]))\n",
    "chain_typ_zero = freemanString(binaryImage(zeros_im[6]))"
   ]
  },
  {
   "cell_type": "markdown",
   "metadata": {},
   "source": [
    "To continue, we implimented the Fisher Wagner algorithm to obtain the edition distance of a given number chain code to a known \"typical\" chain code of one of the numbers. We chose our typical chains based on how easily they are visually identidfied. the one image number 3 and the yero image number 6 seem to be two good candidates for this purpose."
   ]
  },
  {
   "cell_type": "code",
   "execution_count": 30,
   "metadata": {},
   "outputs": [],
   "source": [
    "def delta(x,y):\n",
    "    '''\n",
    "    Simple function that determines if values are equal or not\n",
    "    \n",
    "    Input: two values x and y\n",
    "    Output: 1 or 0\n",
    "    '''\n",
    "    if x == y: return 0\n",
    "    else : return 1\n",
    "\n",
    "def FW_algorithm(tst_str, trg_str):\n",
    "    '''\n",
    "    Fisher-Wagner edition distance algorithm\n",
    "    \n",
    "    Input: test Freeman string, target Freeman string\n",
    "    Output: edition distance from test to target strings\n",
    "    '''\n",
    "    D = np.zeros((len(tst_str), len(trg_str)))\n",
    "    D[0][0] = 0\n",
    "    D[0][1] = 1\n",
    "    D[1][1] = 0\n",
    "    D[1][0] = 1\n",
    "    for m in range(len(tst_str)-1):\n",
    "        for n in range(len(trg_str)-1):\n",
    "            opt_1 = D[m][n] + delta(tst_str[m+1],trg_str[n+1])\n",
    "            opt_2 = D[m][n+1] + 1\n",
    "            opt_3 = D[m+1][n] + 1\n",
    "            D[m+1][n+1] = min(opt_1, opt_2, opt_3)\n",
    "\n",
    "    distance = D[len(tst_str)-1][len(trg_str)-1]\n",
    "    \n",
    "    return distance"
   ]
  },
  {
   "cell_type": "code",
   "execution_count": 31,
   "metadata": {},
   "outputs": [],
   "source": [
    "distFW_0 = []\n",
    "distFW_1 = []\n",
    "lengthFC = []\n",
    "\n",
    "for im in images:\n",
    "    im_free = binaryImage(im)\n",
    "    contour,chain = freemanString(im_free)\n",
    "    dist_zero = FW_algorithm(chain, chain_typ_zero[1])\n",
    "    dist_one = FW_algorithm(chain, chain_typ_one[1])\n",
    "    length = len(chain)\n",
    "    distFW_0.append(dist_zero)\n",
    "    distFW_1.append(dist_one)\n",
    "    lengthFC.append(length)\n",
    "\n",
    "features_cc = []\n",
    "features_cc.append(distFW_0)\n",
    "features_cc.append(distFW_1)\n",
    "features_cc.append(lengthFC)"
   ]
  },
  {
   "cell_type": "code",
   "execution_count": 32,
   "metadata": {
    "scrolled": true
   },
   "outputs": [
    {
     "data": {
      "text/plain": [
       "Text(0.5, 0, 'number ID')"
      ]
     },
     "execution_count": 32,
     "metadata": {},
     "output_type": "execute_result"
    },
    {
     "data": {
      "image/png": "[encoded data removed]",
      "text/plain": [
       "<Figure size 1440x288 with 3 Axes>"
      ]
     },
     "metadata": {
      "needs_background": "light"
     },
     "output_type": "display_data"
    }
   ],
   "source": [
    "idx = range(10) \n",
    "f, ax = plt.subplots(1, 3, figsize=(20,4))\n",
    "ax[0].scatter(idx, features_cc[0][0:10], marker = 's', label='zeros')\n",
    "ax[0].scatter(idx, features_cc[0][10:20], marker = 'x',label='ones')\n",
    "ax[0].legend()\n",
    "ax[0].set_title('Edition distance to \"typical zero\" with invariance')\n",
    "ax[0].set_ylabel('Edition distance')\n",
    "ax[0].set_xlabel('number ID')\n",
    "\n",
    "ax[1].scatter(idx, features_cc[1][0:10], marker = 's', label='zeros')\n",
    "ax[1].scatter(idx, features_cc[1][10:20], marker = 'x',label='ones')\n",
    "ax[1].legend()\n",
    "ax[1].set_title('Edition distance to \"typical one\" with invariance')\n",
    "ax[1].set_ylabel('Edition distance')\n",
    "ax[1].set_xlabel('number ID')\n",
    "\n",
    "ax[2].scatter(idx, features_cc[2][0:10], marker = 's', label='zeros')\n",
    "ax[2].scatter(idx, features_cc[2][10:20], marker = 'x',label='ones')\n",
    "ax[2].legend()\n",
    "ax[2].set_title('Chain Code length')\n",
    "ax[2].set_ylabel('String length')\n",
    "ax[2].set_xlabel('number ID')"
   ]
  },
  {
   "cell_type": "markdown",
   "metadata": {},
   "source": [
    "We tried to class our numbers according to three criterias : the edition distance to our typical zero, to our typical one and the length of the code string as they seemed to consistently be different for the two numbers.\n",
    "\n",
    "As we can see above, the edition distance to the typical zero seems to be a good indicator. We have low variance within a number class, so the are fairly identifiable, but also low variance between classes which could be improvec. We are however able to draw a line between the ones and zeros at about a distance of 20.\n",
    "\n",
    "The edition distance to the typical one however is all over the place and does not seem to offer much usefull information. There are however some low values for the ones that were in the same axe as our typical one, so some rotational transformation would be usefull to sort things out. We will see this later.\n",
    "\n",
    "Although the length of the chains seemed pretty far fetched as a criteria, we can see a pattern appear with the ones below fifty and the zeros above.\n",
    "\n",
    "In all our graphs we can notice a few exception that do not obay to the rules. notably is one number 5, who has a much more complexe contour compaired to the other numbers, and one number 9 who shares the same kind of writing as number 5."
   ]
  },
  {
   "cell_type": "markdown",
   "metadata": {},
   "source": [
    "#### Distance Between Contours using Chamfer's algorithm "
   ]
  },
  {
   "cell_type": "markdown",
   "metadata": {},
   "source": [
    "The second axtra method we tried is to compare the distance between contours using Chamfer's algorithm. We simply followed the algorithm as it was explained in class and also put into place our own rotation and translation function to study the effect of those elements."
   ]
  },
  {
   "cell_type": "code",
   "execution_count": 33,
   "metadata": {},
   "outputs": [],
   "source": [
    "def ChamferDistanceMap(im):\n",
    "    '''\n",
    "    Function providing the distance map of a sigle image to be used for image distace similarity checks\n",
    "    Chamfer distance values around one point:\n",
    "\n",
    "    | 4 3 4 |\n",
    "    | 3 0 3 |\n",
    "    | 4 3 4 |\n",
    "\n",
    "    Input: Binarized image\n",
    "    Output: Chamfer Distance Map of image\n",
    "    '''\n",
    "    rows = len(im)\n",
    "    columns = len(im[0])   \n",
    "    CDM = np.zeros((rows,columns))\n",
    "    \n",
    "    #initial pass on image\n",
    "    for i in range(0,rows):\n",
    "        for j in range(0,columns):\n",
    "            if  im[i][j] == 255:\n",
    "                CDM[i][j] = 0\n",
    "            else : CDM[i][j] = 1000    #large value used instead of infinity\n",
    "                    \n",
    "    #Direct pass\n",
    "    for i in range(0,rows-1):\n",
    "        for j in range(0,columns-1):\n",
    "            opt_1 = CDM[i-1][j-1]+4\n",
    "            opt_2 = CDM[i-1][j]+3\n",
    "            opt_3 = CDM[i-1][j+1]+4\n",
    "            opt_4 = CDM[i][j-1]+3\n",
    "            opt_5 = CDM[i][j]\n",
    "            CDM[i][j]=min(opt_1, opt_2, opt_3, opt_4, opt_5)\n",
    "    \n",
    "    #Inverse pass\n",
    "    for i in reversed(range(-1,rows-1,)):\n",
    "        for j in reversed(range(-1,columns-1)):\n",
    "            opt_1 = CDM[i][j+1]+3\n",
    "            opt_2 = CDM[i+1][j-1]+4\n",
    "            opt_3 = CDM[i+1][j]+3\n",
    "            opt_4 = CDM[i+1][j+1]+4\n",
    "            opt_5 = CDM[i][j]\n",
    "            CDM[i][j]=min(opt_1, opt_2, opt_3, opt_4, opt_5)\n",
    "    \n",
    "    return CDM"
   ]
  },
  {
   "cell_type": "code",
   "execution_count": 34,
   "metadata": {},
   "outputs": [],
   "source": [
    "import math\n",
    "def contourDistance(im,CDM):\n",
    "    '''\n",
    "    Simple distance calculation function. Scans input image coordiantes.\n",
    "    Compares object coordinates to pre-calculated Distance Map of target.\n",
    "    \n",
    "    Input: binarized image of input, Chamfer Distance Map of target\n",
    "    Output: Distance between contours\n",
    "    '''\n",
    "    sumDist = 0\n",
    "    distance = 1000   #max value to avoid NaNs\n",
    "    n = 0\n",
    "    for i, row in enumerate(im):\n",
    "        for j, value in enumerate(row):\n",
    "            if value == 255:\n",
    "                sumDist = sumDist + CDM[i][j]**2\n",
    "                n += 1\n",
    "            else : continue\n",
    "    if n > 0:\n",
    "        distance = math.sqrt(sumDist / n)\n",
    "        return distance"
   ]
  },
  {
   "cell_type": "code",
   "execution_count": 35,
   "metadata": {},
   "outputs": [],
   "source": [
    "def transfRot(im,CDM):\n",
    "    '''\n",
    "    Function that finds the optimal rotation angle value for the minimal contour distance\n",
    "    \n",
    "    Input: original image and chamfer Distance Map of taget image\n",
    "    Output: minimal contour distance and rotation angle\n",
    "    '''\n",
    "    min_dist = contourDistance(im,CDM) \n",
    "    rot_angle = 0\n",
    "    for angle in range(0,360):\n",
    "        im_rot = skimage.transform.rotate(im, angle)*255 #x255 necessary as skimage returns value between 0 and 1\n",
    "        dist = contourDistance(im_rot,CDM)\n",
    "        if dist < min_dist:\n",
    "            min_dist = dist\n",
    "            rot_angle = angle\n",
    "    return min_dist, rot_angle"
   ]
  },
  {
   "cell_type": "code",
   "execution_count": 36,
   "metadata": {},
   "outputs": [],
   "source": [
    "# Translation\n",
    "def transfTrans(im,CDM):\n",
    "    '''\n",
    "    Function that finds the optimal translation x and y values for the minimal contour distance\n",
    "    \n",
    "    Input: Original image and chamfer Distance Map of taget image\n",
    "    Output: Minimal contour distance and x and y translation values\n",
    "    '''\n",
    "    nrows, ncols = im.shape[:2] \n",
    "    x_trans = 0\n",
    "    y_trans = 0\n",
    "    min_dist = contourDistance(im,CDM)\n",
    "    scan_range = len(im)\n",
    "    for i in range(-scan_range//4,scan_range//4): #translation scan is between -7 and +7 as image only 28 pixels wide\n",
    "        for j in range(-scan_range//4,scan_range//4): # and because the numbers are usualy already pretty well centered\n",
    "            translation_matrix = np.float32([ [1,0,i], [0,1,j] ])\n",
    "            im_trans = cv2.warpAffine(im, translation_matrix, (ncols, nrows))\n",
    "            dist = contourDistance(im_trans,CDM)\n",
    "            if dist < min_dist:\n",
    "                min_dist = dist\n",
    "                x_trans = i\n",
    "                y_trans = j\n",
    "    return min_dist, x_trans, y_trans"
   ]
  },
  {
   "cell_type": "code",
   "execution_count": 37,
   "metadata": {},
   "outputs": [],
   "source": [
    "def contDistTransf(im,CDM):\n",
    "    '''\n",
    "    Funciton that tests both Translation and Rotation transformations to find which one has the \n",
    "    smaller contour distance\n",
    "    then applies the second transformation to try and minimise the distance further.\n",
    "    \n",
    "    Input: Original image and chamfer Distance Map of taget image\n",
    "    Output: Minimal contour distance, rotation angle and x and y translation values\n",
    "    '''\n",
    "    nrows, ncols = im.shape[:2]\n",
    "    dist_t,x_t,y_t = transfTrans(im, CDM)\n",
    "    dist_r, a_r = transfRot(im, CDM)\n",
    "    if dist_t <= dist_r :\n",
    "        translation_matrix = np.float32([ [1,0,x_t], [0,1,y_t] ])\n",
    "        im_t = cv2.warpAffine(im, translation_matrix, (ncols, nrows))\n",
    "        distance, angle = transfRot(im_t, CDM)\n",
    "        x = x_t\n",
    "        y = y_t\n",
    "    else : \n",
    "        im_r = skimage.transform.rotate(im, a_r)*255 # x255 needed as skimage return value between 0 and 1\n",
    "        distance, x, y = transfTrans(im_r, CDM)\n",
    "        angle = a_r\n",
    "    return distance, angle, x, y\n",
    "        "
   ]
  },
  {
   "cell_type": "code",
   "execution_count": 38,
   "metadata": {},
   "outputs": [],
   "source": [
    "#here we choose the two \"typical\" number one and zero to act as the reference Chamfer Distance Map for our analysis\n",
    "CDM_zero = ChamferDistanceMap(binaryImage(zeros_im[6]))\n",
    "CDM_one  = ChamferDistanceMap(binaryImage(ones_im[3]))"
   ]
  },
  {
   "cell_type": "markdown",
   "metadata": {},
   "source": [
    "Here again, we needed to choose two \"typical\" examples of ones and zeros. For the sake of continuity, we stuck with our choices of zero 6 and one 3.\n",
    "\n",
    "These are very heavy computations as they require us to go over the images several times during our calculations, for each rotation and each translation."
   ]
  },
  {
   "cell_type": "code",
   "execution_count": 39,
   "metadata": {},
   "outputs": [],
   "source": [
    "transf_zero_compare = []\n",
    "dist_cd_0 = []\n",
    "features_cd = []\n",
    "\n",
    "for im in images:\n",
    "    im_cd = binaryImage(im)\n",
    "    data_zero = contDistTransf(im_cd,CDM_zero)\n",
    "    transf_zero_compare.append(data_zero[1:4])\n",
    "    dist_cd_0.append(data_zero[0])\n",
    "features_cd.append(dist_cd_0)"
   ]
  },
  {
   "cell_type": "code",
   "execution_count": 40,
   "metadata": {},
   "outputs": [],
   "source": [
    "transf_one_compare = []\n",
    "dist_cd_1 = []\n",
    "for im in images:\n",
    "    im_cd = binaryImage(im)\n",
    "    data_one = contDistTransf(im_cd,CDM_one)\n",
    "    transf_one_compare.append(data_one[1:4])\n",
    "    dist_cd_1.append(data_one[0])\n",
    "features_cd.append(dist_cd_1)"
   ]
  },
  {
   "cell_type": "code",
   "execution_count": 41,
   "metadata": {
    "scrolled": true
   },
   "outputs": [
    {
     "data": {
      "text/plain": [
       "Text(0, 0.5, 'number ID')"
      ]
     },
     "execution_count": 41,
     "metadata": {},
     "output_type": "execute_result"
    },
    {
     "data": {
      "image/png": "[encoded data removed]",
      "text/plain": [
       "<Figure size 1440x360 with 2 Axes>"
      ]
     },
     "metadata": {
      "needs_background": "light"
     },
     "output_type": "display_data"
    }
   ],
   "source": [
    "f, ax = plt.subplots(1, 2, figsize=(20,5))\n",
    "ax[0].scatter(idx, features_cd[0][0:10], marker = 's', label='zeros')\n",
    "ax[0].scatter(idx, features_cd[0][10:20], marker = 'x',label='ones')\n",
    "ax[0].legend()\n",
    "ax[0].set_title('Distance to contours between ones and zeros to \"typical\" zero with invariance')\n",
    "ax[0].set_xlabel('Contour Distance')\n",
    "ax[0].set_ylabel('number ID')\n",
    "\n",
    "ax[1].scatter(idx, features_cd[1][0:10], marker = 's', label='zeros')\n",
    "ax[1].scatter(idx, features_cd[1][10:20], marker = 'x',label='ones')\n",
    "ax[1].legend()\n",
    "ax[1].set_title('Distance to contours between ones and zeros to \"typical\" one with invariance')\n",
    "ax[1].set_xlabel('Contour Distance')\n",
    "ax[1].set_ylabel('number ID')"
   ]
  },
  {
   "cell_type": "markdown",
   "metadata": {},
   "source": [
    "As we can see here above, the contour distance between the numbers and the typical zero seem very independent from the value of the number. We suspect this is because the thin contour of a one is almost always included in that of a zero, resulting in a very low average. \n",
    "\n",
    "As we look at the contour distance to the typical one however, we will find a clear distinctions between both numbers, with all the zeros being systematically above or equal to about 6. This is a good identification criteria."
   ]
  },
  {
   "cell_type": "markdown",
   "metadata": {},
   "source": [
    "#### Chain Code with invariance of Rotation and Translation"
   ]
  },
  {
   "cell_type": "markdown",
   "metadata": {},
   "source": [
    "Since we devolopped these rotation and translation functions, we decided to try and use the optimal transformation calculated for contour distancing and see if it would improve our results of edition distance using chain code.\n",
    "We simply needed to write a function that would apply the optimal transformations to our images."
   ]
  },
  {
   "cell_type": "code",
   "execution_count": 42,
   "metadata": {},
   "outputs": [],
   "source": [
    "def imageTransform(im,angle, x_t, y_t):\n",
    "    '''\n",
    "    Function that takes computed optimal rotation and translation values for contour distance \n",
    "    and returns the transformed image\n",
    "    \n",
    "    Input: Original image, rotation angle and translation x and y values\n",
    "    Output: Transformed image with desired rotation and translation\n",
    "    '''\n",
    "    im_rot = skimage.transform.rotate(im, angle)\n",
    "    nrows, ncols = im.shape[:2] \n",
    "    translation_matrix = np.float32([ [1,0,x_t], [0,1,y_t] ])\n",
    "    im_transf = cv2.warpAffine(im_rot, translation_matrix, (ncols, nrows))\n",
    "    return im_transf"
   ]
  },
  {
   "cell_type": "code",
   "execution_count": 55,
   "metadata": {
    "scrolled": true
   },
   "outputs": [
    {
     "data": {
      "image/png": "[encoded data removed]",
      "text/plain": [
       "<Figure size 1728x216 with 40 Axes>"
      ]
     },
     "metadata": {
      "needs_background": "light"
     },
     "output_type": "display_data"
    }
   ],
   "source": [
    "# Image plot to view result of number transformation by rotation and translation, then turned to binary values\n",
    "i = 0\n",
    "fig, axes = plt.subplots(1, len(images), figsize=(24, 3))\n",
    "for ax, im in zip(axes, images):\n",
    "    im_bin = binaryImage(im)\n",
    "    trsf_data = transf_one_compare[i][:]\n",
    "    im_trsf = imageTransform(im_bin, trsf_data[0], trsf_data[1], trsf_data[2])*255 \n",
    "    im_show = binaryImage(im_trsf)\n",
    "    ax.imshow(im_show, cmap='gray')\n",
    "    ax.axis('off')\n",
    "    i += 1 "
   ]
  },
  {
   "cell_type": "markdown",
   "metadata": {},
   "source": [
    "In order to use our function, we needed a binary \"0\" and \"255\" coding of our images. As we can see here in the transformed images, we were lucky we did not exceed the boarders. There is definetly room for improvement here, but it should be enough to see if the transformations had an effect."
   ]
  },
  {
   "cell_type": "code",
   "execution_count": 44,
   "metadata": {},
   "outputs": [],
   "source": [
    "distFW_0 = []\n",
    "distFW_1 = []\n",
    "lengthFC = []\n",
    "i = 0\n",
    "\n",
    "for im in images:\n",
    "    im_free = binaryImage(im)\n",
    "    trsf_data = transf_zero_compare[i][:]\n",
    "    im_trsf = imageTransform(im_free, trsf_data[0], trsf_data[1], trsf_data[2])*255\n",
    "    contour,chain = freemanString(binaryImage(im_trsf))\n",
    "    dist_zero = FW_algorithm(chain, chain_typ_zero[1])\n",
    "    length = len(chain)\n",
    "    distFW_0.append(dist_zero)\n",
    "    lengthFC.append(length)\n",
    "    i += 1\n",
    "\n",
    "i = 0\n",
    "for im in images:\n",
    "    im_free = binaryImage(im)\n",
    "    trsf_data = transf_one_compare[i][:]\n",
    "    im_trsf = imageTransform(im_free, trsf_data[0], trsf_data[1], trsf_data[2])*255\n",
    "    contour,chain = freemanString(binaryImage(im_trsf))\n",
    "    dist_one = FW_algorithm(chain, chain_typ_one[1])\n",
    "    distFW_1.append(dist_one)\n",
    "    i += 1\n",
    "\n",
    "features_cc2 = []\n",
    "features_cc2.append(distFW_0)\n",
    "features_cc2.append(distFW_1)\n",
    "features_cc2.append(lengthFC)"
   ]
  },
  {
   "cell_type": "code",
   "execution_count": 45,
   "metadata": {},
   "outputs": [
    {
     "data": {
      "text/plain": [
       "Text(0.5, 0, 'number ID')"
      ]
     },
     "execution_count": 45,
     "metadata": {},
     "output_type": "execute_result"
    },
    {
     "data": {
      "image/png": "[encoded data removed]",
      "text/plain": [
       "<Figure size 1440x288 with 3 Axes>"
      ]
     },
     "metadata": {
      "needs_background": "light"
     },
     "output_type": "display_data"
    }
   ],
   "source": [
    "idx_zeros = range(10) \n",
    "idx_ones = range(10,20)\n",
    "f, ax = plt.subplots(1, 3, figsize=(20,4))\n",
    "ax[0].scatter(idx_zeros, features_cc2[0][0:10], marker = 's', label='zeros')\n",
    "ax[0].scatter(idx_zeros, features_cc2[0][10:20], marker = 'x',label='ones')\n",
    "ax[0].legend()\n",
    "ax[0].set_title('Edition distance to \"typical zero\" with invariance')\n",
    "ax[0].set_ylabel('Edition Distance')\n",
    "ax[0].set_xlabel('number ID')\n",
    "\n",
    "ax[1].scatter(idx_zeros, features_cc2[1][0:10], marker = 's', label='zeros')\n",
    "ax[1].scatter(idx_zeros, features_cc2[1][10:20], marker = 'x',label='ones')\n",
    "ax[1].legend()\n",
    "ax[1].set_title('Edition distance to \"typical one\" with invariance')\n",
    "ax[1].set_ylabel('Edition Distance')\n",
    "ax[1].set_xlabel('number ID')\n",
    "\n",
    "ax[2].scatter(idx_zeros, features_cc2[2][0:10], marker = 's', label='zeros')\n",
    "ax[2].scatter(idx_zeros, features_cc2[2][10:20], marker = 'x',label='ones')\n",
    "ax[2].legend()\n",
    "ax[2].set_title('Chain Code length with invariance')\n",
    "ax[2].set_ylabel('String length')\n",
    "ax[2].set_xlabel('number ID')"
   ]
  },
  {
   "cell_type": "markdown",
   "metadata": {},
   "source": [
    "As we can see above, the edition distance to zeros and the chain code length still remain good conditions do identify our numbers. But we know also have a better identification for the edition distance to our typical one. This proves that our hypothesis of before was correct and that the rotations of the tilted ones had a big effect on their identification.\n",
    "\n",
    "For both edition distances, we have low number class variance and a distinct threshold value that allows us to differentiate them, respectivaly about 20 and about 15, and demonstrates that if we pushed this method even further, it could be a very good method for class indentification."
   ]
  },
  {
   "cell_type": "markdown",
   "metadata": {},
   "source": [
    "#### Compacity \n",
    "\n",
    "We have selected to study another contour-based method of the image. The compacity of the image has been implemented with the help of the area A2 and perimeter P2 as presented in class. "
   ]
  },
  {
   "cell_type": "code",
   "execution_count": 46,
   "metadata": {},
   "outputs": [],
   "source": [
    "import cv2\n",
    "import math\n",
    "\n",
    "def get_pixel(im):\n",
    "    '''\n",
    "    Compute a list of all coordinates of an image\n",
    "    \n",
    "    Input: grayscale image\n",
    "    Output: list of all coordinates of a grayscale image\n",
    "    \n",
    "    '''\n",
    "    im_filtered = low_pass_filter(im,3)\n",
    "    coordinate = []\n",
    "    \n",
    "    row,col = im_filtered.shape\n",
    "    for r in range(row):\n",
    "        for c in range(col):\n",
    "            coordinate.append((r,c))\n",
    "    return coordinate\n",
    "\n",
    "def is_inside_contour(contour, non_zero_pixels):\n",
    "    '''\n",
    "    Check wether a point is inside of a contour and return the number of point within a contour\n",
    "    \n",
    "    Input: a list of pixel coordinates and a list of contour coordinates\n",
    "    Output: number of point within a contour\n",
    "    \n",
    "    '''\n",
    "    counter = 0\n",
    "    for coord in non_zero_pixels:\n",
    "        dist = cv2.pointPolygonTest(contour,coord,True)\n",
    "        if dist > 0:\n",
    "            counter += 1\n",
    "    return counter\n",
    "\n",
    "def compute_perimeter(contour_list):\n",
    "    '''\n",
    "    Compute the perimeter of a shape based on its contour\n",
    "    \n",
    "    Input: a list of contour coordinates \n",
    "    Output: perimeter \n",
    "    \n",
    "    '''\n",
    "    coord_tmp = []\n",
    "    counter = 0\n",
    "    nearby_point = 0\n",
    "    for coord in contour_list:\n",
    "        coord_tmp.append(coord)\n",
    "        if counter != 0:\n",
    "            if (coord_tmp[0][0] == coord_tmp[1][0]) or (coord_tmp[0][1] == coord_tmp[1][1]):\n",
    "                nearby_point += 1\n",
    "            coord_tmp.pop(0)\n",
    "        counter += 1\n",
    "    p_2 = (len(contour_list) - nearby_point)*math.sqrt(2) + nearby_point - 1\n",
    "    return p_2"
   ]
  },
  {
   "cell_type": "code",
   "execution_count": 47,
   "metadata": {},
   "outputs": [],
   "source": [
    "images = np.append(zeros_im,ones_im,axis = 0)\n",
    "\n",
    "compacity_zeros = []\n",
    "compacity_ones = []\n",
    "area_zeros = []\n",
    "area_ones = []\n",
    "perimeter_zeros = []\n",
    "perimeter_ones = []\n",
    "\n",
    "counter = 0\n",
    "\n",
    "for im in images:\n",
    "    contour = get_ordered_contour(im) \n",
    "    region_coord = get_pixel(im)\n",
    "    contour_list = contour.tolist()\n",
    "    \n",
    "    # Computing Area A_32\n",
    "    i = is_inside_contour(contour, region_coord)\n",
    "    b = len(contour)\n",
    "    area_tmp = (b/2 + i-1)\n",
    "    if counter < 10:\n",
    "        area_zeros.append(area_tmp)\n",
    "    else:\n",
    "        area_ones.append(area_tmp)\n",
    "    \n",
    "    # Computing perimeter P_3\n",
    "    perimeter_tmp = compute_perimeter(contour_list)\n",
    "    if counter < 10:\n",
    "        perimeter_zeros.append(perimeter_tmp)\n",
    "    else:\n",
    "        perimeter_ones.append(perimeter_tmp)\n",
    "    \n",
    "    # Computing compacity\n",
    "    compacity_tmp = perimeter_tmp**2/area_tmp\n",
    "    if counter < 10:\n",
    "        compacity_zeros.append(compacity_tmp)\n",
    "    else:\n",
    "        compacity_ones.append(compacity_tmp)\n",
    "    \n",
    "    counter += 1\n"
   ]
  },
  {
   "cell_type": "code",
   "execution_count": 48,
   "metadata": {},
   "outputs": [
    {
     "data": {
      "text/plain": [
       "Text(0, 0.5, 'compacity')"
      ]
     },
     "execution_count": 48,
     "metadata": {},
     "output_type": "execute_result"
    },
    {
     "data": {
      "image/png": "[encoded data removed]",
      "text/plain": [
       "<Figure size 1440x288 with 3 Axes>"
      ]
     },
     "metadata": {
      "needs_background": "light"
     },
     "output_type": "display_data"
    }
   ],
   "source": [
    "f, ax = plt.subplots(1, 3, figsize=(20,4))\n",
    "ax[0].scatter(area_zeros, perimeter_zeros, marker = 's', label='zeros')\n",
    "ax[0].scatter(area_ones, perimeter_ones, marker = 'x',label='ones')\n",
    "ax[0].legend()\n",
    "ax[0].set_xlabel('Area')\n",
    "ax[0].set_ylabel('Perimeter')\n",
    "\n",
    "ax[1].scatter(perimeter_zeros, compacity_zeros, marker = 's', label='zeros')\n",
    "ax[1].scatter(perimeter_ones, compacity_ones, marker = 'x', label='ones')\n",
    "ax[1].legend()\n",
    "ax[1].set_xlabel('Perimeter')\n",
    "ax[1].set_ylabel('compacity')\n",
    "\n",
    "ax[2].scatter(area_zeros, compacity_zeros, marker = 's', label='zeros')\n",
    "ax[2].scatter(area_ones, compacity_ones, marker = 'x', label='ones')\n",
    "ax[2].legend()\n",
    "ax[2].set_xlabel('Area')\n",
    "ax[2].set_ylabel('compacity')"
   ]
  },
  {
   "cell_type": "markdown",
   "metadata": {},
   "source": [
    "We have displayed three graphs where we've plotted separately the zero and ones images by taking into account the perimeters, area and compacity. We can observe that in all the case, it would be possible to create two clusters but the method that would require the least effort for a clustering algorithm as Kmeans, would be the first case. In that case, we rely on the perimeter and area of the images. We can observe both good intra-class et extra-class variance requirements to obtains two separates clusters. We can observe that by introducing the compacity, the extra-class variance tend to decrease as shown in the plot in the middle while the intra-class variance tend to increase in the two plots with compacity. "
   ]
  },
  {
   "cell_type": "markdown",
   "metadata": {},
   "source": [
    "## Part 2\n",
    "The `lab-02-data/part2` folder contains grey-scale pictures of handwritten \"2\" and \"3\".\n",
    "Extract the same feature (typically 2 Fourier descriptors) as in part 1 also on these images and plot them on the same graph as the features of the \"0\" and \"1\".\n",
    "Is it possible to discriminate all these 4 digits with a 2-dimensional feature vector?"
   ]
  },
  {
   "cell_type": "markdown",
   "metadata": {},
   "source": [
    "### 2.1 Data visualization"
   ]
  },
  {
   "cell_type": "code",
   "execution_count": 49,
   "metadata": {},
   "outputs": [
    {
     "data": {
      "image/png": "[encoded data removed]",
      "text/plain": [
       "<Figure size 864x216 with 20 Axes>"
      ]
     },
     "metadata": {
      "needs_background": "light"
     },
     "output_type": "display_data"
    }
   ],
   "source": [
    "#  Load twos\n",
    "twos_path = os.path.join(data_base_path, data_folder, 'part2', '2')\n",
    "twos_names = [nm for nm in os.listdir(twos_path) if '.png' in nm]  # make sure to only load .png\n",
    "twos_names.sort()  # sort file names\n",
    "ic = skimage.io.imread_collection([os.path.join(twos_path, nm) for nm in twos_names])\n",
    "twos_im = skimage.io.concatenate_images(ic)\n",
    "#  Load threes\n",
    "threes_path = os.path.join(data_base_path, data_folder, 'part2', '3')\n",
    "threes_names = [nm for nm in os.listdir(threes_path) if '.png' in nm]  # make sure to only load .png\n",
    "threes_names.sort()  # sort file names\n",
    "ic = skimage.io.imread_collection(([os.path.join(threes_path, nm) for nm in threes_names]))\n",
    "threes_im = skimage.io.concatenate_images(ic)\n",
    "\n",
    "# Plot images\n",
    "fig, axes = plt.subplots(2, len(twos_im), figsize=(12, 3))\n",
    "for ax, im, nm in zip(axes[0], twos_im, twos_names):\n",
    "    ax.imshow(im, cmap='gray')\n",
    "    ax.axis('off')\n",
    "    ax.set_title(nm)\n",
    "for ax, im, nm in zip(axes[1], threes_im, threes_names):\n",
    "    ax.imshow(im, cmap='gray')\n",
    "    ax.axis('off')\n",
    "    ax.set_title(nm)"
   ]
  },
  {
   "cell_type": "markdown",
   "metadata": {},
   "source": [
    "### 2.2 Additional method(s) and conclusion"
   ]
  },
  {
   "cell_type": "markdown",
   "metadata": {},
   "source": [
    "In the first part, we have successfully constructed two clusters with the help of the method of Fourier descriptors in a space based with two dimensions (two descriptors). We are going to observe if it is possible to repeat the experiment by adding two new class of objects formed of additional images of hand-written \"two\" and \"three\". "
   ]
  },
  {
   "cell_type": "code",
   "execution_count": 52,
   "metadata": {},
   "outputs": [
    {
     "data": {
      "image/png": "[encoded data removed]",
      "text/plain": [
       "<Figure size 432x288 with 1 Axes>"
      ]
     },
     "metadata": {
      "needs_background": "light"
     },
     "output_type": "display_data"
    }
   ],
   "source": [
    "features = []\n",
    "contours = []\n",
    "images = np.append(zeros_im,ones_im,axis = 0)\n",
    "images = np.append(images,twos_im,axis = 0)\n",
    "images = np.append(images,threes_im,axis = 0)\n",
    "\n",
    "n_descriptor = 2\n",
    "first_descriptor = 0\n",
    "\n",
    "for im in images:\n",
    "    sp,contour = dft_computation_scalling(im, n_descriptor, first_descriptor)\n",
    "    features.append(sp)\n",
    "    contours.append(contour)\n",
    "features = np.array(features)\n",
    "X = np.append(features.real,features.imag,axis=1)\n",
    "features = np.absolute(features)\n",
    "\n",
    "kmeans = KMeans(n_clusters=4, random_state=0).fit(features)\n",
    "kmeans.labels_\n",
    "LABEL_COLOR_MAP = {0 : 'r', 1 : 'k', 2: 'b', 3: 'g'}\n",
    "LABEL_NAME_MAP =  {0 : '1', 1 : '0', 2 : 'Outlier', 3 : '2/3'}\n",
    "MARKER_MAP = {0 : 'v', 1: 'o', 2: '*', 3:'X'}\n",
    "markers = [MARKER_MAP[i//10] for i in range(images.shape[0])]\n",
    "label_color = [LABEL_COLOR_MAP[l] for l in kmeans.labels_]\n",
    "\n",
    "fig, ax = plt.subplots()\n",
    "for xp, yp, color, m in zip(features[:,0], features[:,1], label_color, markers):\n",
    "    ax.scatter([xp],[yp],c = color, marker=m)\n",
    "plt.show()"
   ]
  },
  {
   "cell_type": "markdown",
   "metadata": {},
   "source": [
    "We can observe that the clustering algorithm isn't able to perform a successful clustering of the four different objects. Indeed, we can observe four distinctive colors but cluster red, green and black are formed of different markers. The expected result would have been to have four clusters displaying a specific color and marker each. One way to get rid of this issue would be to use a larger set of descriptors and images of each category. The next plot shows the incapacity for the Kmeans algorithm to successfully affect labels to the images."
   ]
  },
  {
   "cell_type": "code",
   "execution_count": 25,
   "metadata": {},
   "outputs": [
    {
     "data": {
      "image/png": "[encoded data removed]",
      "text/plain": [
       "<Figure size 1728x216 with 40 Axes>"
      ]
     },
     "metadata": {
      "needs_background": "light"
     },
     "output_type": "display_data"
    }
   ],
   "source": [
    "img_name = [LABEL_NAME_MAP[l] for l in kmeans.labels_]\n",
    "\n",
    "fig, axes = plt.subplots(1, len(images), figsize=(24, 3))\n",
    "\n",
    "for ax, im, nm in zip(axes, contours, img_name):\n",
    "    ax.imshow(im, cmap='gray')\n",
    "    ax.axis('off')\n",
    "    ax.set_title(nm)"
   ]
  }
 ],
 "metadata": {
  "kernelspec": {
   "display_name": "Python 3",
   "language": "python",
   "name": "python3"
  },
  "language_info": {
   "codemirror_mode": {
    "name": "ipython",
    "version": 3
   },
   "file_extension": ".py",
   "mimetype": "text/x-python",
   "name": "python",
   "nbconvert_exporter": "python",
   "pygments_lexer": "ipython3",
   "version": "3.7.4"
  }
 },
 "nbformat": 4,
 "nbformat_minor": 2
}
