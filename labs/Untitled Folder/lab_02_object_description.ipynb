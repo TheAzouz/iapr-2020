{
 "cells": [
  {
   "cell_type": "markdown",
   "metadata": {},
   "source": [
    "# [IAPR 2020:][iapr2020] Lab 2 ‒  Object description\n",
    "\n",
    "**Authors:** first_name_1 last_name_1, first_name_2 last_name_2, first_name_3 last_name_3  \n",
    "**Due date:** 24.04.2020\n",
    "\n",
    "[iapr2020]: https://github.com/LTS5/iapr-2020"
   ]
  },
  {
   "cell_type": "markdown",
   "metadata": {},
   "source": [
    "## Extract relevant data\n",
    "We first need to extract the `lab-02-data.tar.gz` archive.\n",
    "To this end, we use the [tarfile] module from the Python standard library.\n",
    "\n",
    "[tarfile]: https://docs.python.org/3.6/library/tarfile.html"
   ]
  },
  {
   "cell_type": "code",
   "execution_count": 278,
   "metadata": {},
   "outputs": [],
   "source": [
    "import tarfile\n",
    "import os\n",
    "\n",
    "data_base_path = os.path.join(os.pardir, 'data')\n",
    "data_folder = 'lab-02-data'\n",
    "tar_path = os.path.join(data_base_path, data_folder + '.tar.gz')\n",
    "with tarfile.open(tar_path, mode='r:gz') as tar:\n",
    "    tar.extractall(path=data_base_path)"
   ]
  },
  {
   "cell_type": "markdown",
   "metadata": {},
   "source": [
    "## Part 1\n",
    "In the `lab-02-data/part1` folder, you will find 28x28 grey-scale pictures of handwritten \"0\" and \"1\".\n",
    "These digits have been extracted from MNIST dataset (http://yann.lecun.com/exdb/mnist/).\n",
    "\n",
    "Your goal is to extract, from each of those images, a 2-dimensional feature vector (i.e. 2 features) and to plot them all on a 2D graph.\n",
    "If you have chosen good features, the vectors of the \"0\"'s should nicely cluster in one part of the plane and those of the \"1\"'s in another.\n",
    "\n",
    "Please try first the Fourier Descriptors.\n",
    "You can make several attempts: e.g. with and without invariance to rotation, translation, scaling, etc.\n",
    "You can also for instance rotate the images and assess the invariance in rotation.\n",
    "\n",
    "**Note:** for the Fourier descriptors, the u_k signal has to be constructed by following the contour point after point.\n",
    "Some pre-processing (image binarization, possibly some Mathematical Morphology) might be useful.\n",
    "\n",
    "Then feel free to try other features, the more you try, the better it will be (for you)."
   ]
  },
  {
   "cell_type": "markdown",
   "metadata": {},
   "source": [
    "### 1.1 Data visualization"
   ]
  },
  {
   "cell_type": "code",
   "execution_count": 279,
   "metadata": {},
   "outputs": [
    {
     "data": {
      "image/png": "[encoded data removed]",
      "text/plain": [
       "<Figure size 864x216 with 20 Axes>"
      ]
     },
     "metadata": {
      "needs_background": "light"
     },
     "output_type": "display_data"
    }
   ],
   "source": [
    "import skimage.io\n",
    "import matplotlib.pyplot as plt\n",
    "%matplotlib inline\n",
    "\n",
    "# Load images\n",
    "data_base_path = os.path.join(os.pardir, 'data')\n",
    "data_folder = 'lab-02-data'\n",
    "#  Load zeros\n",
    "zeros_path = os.path.join(data_base_path, data_folder, 'part1', '0')\n",
    "zeros_names = [nm for nm in os.listdir(zeros_path) if '.png' in nm]  # make sure to only load .png\n",
    "zeros_names.sort()  # sort file names\n",
    "ic = skimage.io.imread_collection([os.path.join(zeros_path, nm) for nm in zeros_names])\n",
    "zeros_im = skimage.io.concatenate_images(ic)\n",
    "#  Load ones\n",
    "ones_path = os.path.join(data_base_path, data_folder, 'part1', '1')\n",
    "ones_names = [nm for nm in os.listdir(ones_path) if '.png' in nm]  # make sure to only load .png\n",
    "ones_names.sort()  # sort file names\n",
    "ic = skimage.io.imread_collection(([os.path.join(ones_path, nm) for nm in ones_names]))\n",
    "ones_im = skimage.io.concatenate_images(ic)\n",
    "\n",
    "# Plot images\n",
    "fig, axes = plt.subplots(2, len(zeros_im), figsize=(12, 3))\n",
    "for ax, im, nm in zip(axes[0], zeros_im, zeros_names):\n",
    "    ax.imshow(im, cmap='gray')\n",
    "    ax.axis('off')\n",
    "    ax.set_title(nm)\n",
    "for ax, im, nm in zip(axes[1], ones_im, ones_names):\n",
    "    ax.imshow(im, cmap='gray')\n",
    "    ax.axis('off')\n",
    "    ax.set_title(nm)"
   ]
  },
  {
   "cell_type": "code",
   "execution_count": 280,
   "metadata": {},
   "outputs": [],
   "source": [
    "import numpy as np\n",
    "from scipy.optimize import curve_fit\n",
    "import cv2\n",
    "from sklearn.cluster import KMeans, SpectralClustering\n",
    "from scipy import ndimage\n",
    "from sklearn.mixture import GaussianMixture\n",
    "from skimage import measure"
   ]
  },
  {
   "cell_type": "code",
   "execution_count": 281,
   "metadata": {},
   "outputs": [],
   "source": [
    "images = np.append(zeros_im,ones_im,axis = 0)"
   ]
  },
  {
   "cell_type": "markdown",
   "metadata": {},
   "source": [
    "### 1.2 Fourier descriptors\n",
    "Add your implementation and discussion"
   ]
  },
  {
   "cell_type": "code",
   "execution_count": 282,
   "metadata": {},
   "outputs": [],
   "source": [
    "def low_pass_filter(img,size):\n",
    "    Kernel = np.ones((size,size),np.float32)/size**2\n",
    "    return ndimage.filters.convolve(img, Kernel)"
   ]
  },
  {
   "cell_type": "code",
   "execution_count": 283,
   "metadata": {},
   "outputs": [
    {
     "data": {
      "image/png": "[encoded data removed]",
      "text/plain": [
       "<Figure size 432x288 with 1 Axes>"
      ]
     },
     "metadata": {
      "needs_background": "light"
     },
     "output_type": "display_data"
    }
   ],
   "source": [
    "fig, ax = plt.subplots()\n",
    "im = ones_im[8]\n",
    "im = low_pass_filter(im,3)\n",
    "contours = measure.find_contours(im, 50)\n",
    "ax.imshow(im, cmap=plt.cm.gray)\n",
    "for n, contour in enumerate(contours):\n",
    "    ax.plot(contour[:, 1], contour[:, 0], linewidth=2)"
   ]
  },
  {
   "cell_type": "code",
   "execution_count": 284,
   "metadata": {},
   "outputs": [],
   "source": [
    "def get_ordered_contour(im):\n",
    "    '''\n",
    "    Contour detection function based on the simple images we have.\n",
    "    \n",
    "    Input: grayscale image\n",
    "    Output: contour of the main feature ( In our application, handwritten digits )\n",
    "    \n",
    "    '''\n",
    "    im = im = low_pass_filter(im,3)\n",
    "    contours = measure.find_contours(im, 50)\n",
    "    contours_array = []\n",
    "    for n, contour in enumerate(contours):\n",
    "        for x,y in contour:\n",
    "            contours_array.append((x,y))\n",
    "    contours_array = np.array(contours_array).astype(int)\n",
    "        \n",
    "    return contours_array"
   ]
  },
  {
   "cell_type": "markdown",
   "metadata": {},
   "source": [
    "#### Create the complex number from the detected contour:   $ u_k = x_k + j*y_k $"
   ]
  },
  {
   "cell_type": "code",
   "execution_count": 334,
   "metadata": {},
   "outputs": [],
   "source": [
    "def complex_contour_vector(img):\n",
    "\n",
    "    contour_array = get_ordered_contour(img)\n",
    "    contour_img = np.zeros(img.shape)\n",
    "    uk = []\n",
    "    \n",
    "    for k in contour_array:\n",
    "        uk.append(np.vectorize(complex)(k[0],k[1]))\n",
    "        contour_img[k[0],k[1]] = 1\n",
    "    uk = np.array(uk)\n",
    "    \n",
    "    return uk, contour_img"
   ]
  },
  {
   "cell_type": "markdown",
   "metadata": {},
   "source": [
    "#### Compute and plot DFT (FFT) : "
   ]
  },
  {
   "cell_type": "code",
   "execution_count": 296,
   "metadata": {},
   "outputs": [],
   "source": [
    "def dft_computation(img,n_descriptor=2):\n",
    "    uk, contour_img = complex_contour_vector(img)\n",
    "    sp = np.fft.fft(uk)\n",
    "    freq = np.fft.fftfreq(len(uk))\n",
    "    \n",
    "    return sp[1:1+n_descriptor],contour_img"
   ]
  },
  {
   "cell_type": "code",
   "execution_count": 331,
   "metadata": {},
   "outputs": [
    {
     "data": {
      "image/png": "[encoded data removed]",
      "text/plain": [
       "<Figure size 1728x216 with 20 Axes>"
      ]
     },
     "metadata": {
      "needs_background": "light"
     },
     "output_type": "display_data"
    }
   ],
   "source": [
    "fig, axes = plt.subplots(1, len(images), figsize=(24, 3))\n",
    "for ax, im in zip(axes, images):\n",
    "    sp, contour  = dft_computation(im)\n",
    "    ax.imshow(contour, cmap='gray')\n",
    "    ax.axis('off')"
   ]
  },
  {
   "cell_type": "markdown",
   "metadata": {},
   "source": [
    "#### Classify according to the two selected features"
   ]
  },
  {
   "cell_type": "code",
   "execution_count": 332,
   "metadata": {},
   "outputs": [
    {
     "data": {
      "image/png": "[encoded data removed]",
      "text/plain": [
       "<Figure size 432x288 with 1 Axes>"
      ]
     },
     "metadata": {
      "needs_background": "light"
     },
     "output_type": "display_data"
    }
   ],
   "source": [
    "features = []\n",
    "contours = []\n",
    "images = np.append(zeros_im,ones_im,axis = 0)\n",
    "for im in images:\n",
    "    sp,contour = dft_computation(im)\n",
    "    features.append(sp)\n",
    "    contours.append(contour)\n",
    "features = np.array(features)\n",
    "X = np.append(features.real,features.imag,axis=1)\n",
    "features = np.absolute(features)\n",
    "\n",
    "kmeans = KMeans(n_clusters=2, random_state=0).fit(features)\n",
    "kmeans.labels_\n",
    "LABEL_COLOR_MAP = {0 : 'r', 1 : 'k'}\n",
    "MARKER_MAP = {0 : 'v', 1: 'o', 2: '*', 3:'X'}\n",
    "markers = [MARKER_MAP[i//10] for i in range(images.shape[0])]\n",
    "label_color = [LABEL_COLOR_MAP[l] for l in kmeans.labels_]\n",
    "\n",
    "fig, ax = plt.subplots()\n",
    "for xp, yp, color, m in zip(features[:,0], features[:,1], label_color, markers):\n",
    "    ax.scatter([xp],[yp],c = color, marker=m)\n",
    "plt.show()"
   ]
  },
  {
   "cell_type": "code",
   "execution_count": 333,
   "metadata": {},
   "outputs": [
    {
     "data": {
      "image/png": "[encoded data removed]",
      "text/plain": [
       "<Figure size 1728x216 with 20 Axes>"
      ]
     },
     "metadata": {
      "needs_background": "light"
     },
     "output_type": "display_data"
    }
   ],
   "source": [
    "LABEL_NAME_MAP =  {1 : '0', 0 : '1'}\n",
    "img_name = [LABEL_NAME_MAP[l] for l in kmeans.labels_]\n",
    "\n",
    "fig, axes = plt.subplots(1, len(images), figsize=(24, 3))\n",
    "for ax, im, nm in zip(axes, images, img_name):\n",
    "    ax.imshow(im, cmap='gray')\n",
    "    ax.axis('off')\n",
    "    ax.set_title(nm)"
   ]
  },
  {
   "cell_type": "markdown",
   "metadata": {},
   "source": [
    "### 1.3 Additional method(s)\n",
    "Add your implementation and discussion"
   ]
  },
  {
   "cell_type": "markdown",
   "metadata": {},
   "source": [
    "# Distance between contours"
   ]
  },
  {
   "cell_type": "code",
   "execution_count": null,
   "metadata": {},
   "outputs": [],
   "source": []
  },
  {
   "cell_type": "markdown",
   "metadata": {},
   "source": [
    "# Chain code"
   ]
  },
  {
   "cell_type": "code",
   "execution_count": null,
   "metadata": {},
   "outputs": [],
   "source": []
  },
  {
   "cell_type": "markdown",
   "metadata": {},
   "source": [
    "# Edition distance"
   ]
  },
  {
   "cell_type": "code",
   "execution_count": null,
   "metadata": {},
   "outputs": [],
   "source": []
  },
  {
   "cell_type": "markdown",
   "metadata": {},
   "source": [
    "# Region-based descriptors "
   ]
  },
  {
   "cell_type": "code",
   "execution_count": null,
   "metadata": {},
   "outputs": [],
   "source": []
  },
  {
   "cell_type": "markdown",
   "metadata": {},
   "source": [
    "## Part 2\n",
    "The `lab-02-data/part2` folder contains grey-scale pictures of handwritten \"2\" and \"3\".\n",
    "Extract the same feature (typically 2 Fourier descriptors) as in part 1 also on these images and plot them on the same graph as the features of the \"0\" and \"1\".\n",
    "Is it possible to discriminate all these 4 digits with a 2-dimensional feature vector?"
   ]
  },
  {
   "cell_type": "markdown",
   "metadata": {},
   "source": [
    "### 2.1 Data visualization"
   ]
  },
  {
   "cell_type": "code",
   "execution_count": 300,
   "metadata": {},
   "outputs": [
    {
     "data": {
      "image/png": "[encoded data removed]",
      "text/plain": [
       "<Figure size 864x216 with 20 Axes>"
      ]
     },
     "metadata": {
      "needs_background": "light"
     },
     "output_type": "display_data"
    }
   ],
   "source": [
    "#  Load zeros\n",
    "twos_path = os.path.join(data_base_path, data_folder, 'part2', '2')\n",
    "twos_names = [nm for nm in os.listdir(twos_path) if '.png' in nm]  # make sure to only load .png\n",
    "twos_names.sort()  # sort file names\n",
    "ic = skimage.io.imread_collection([os.path.join(twos_path, nm) for nm in twos_names])\n",
    "twos_im = skimage.io.concatenate_images(ic)\n",
    "#  Load ones\n",
    "threes_path = os.path.join(data_base_path, data_folder, 'part2', '3')\n",
    "threes_names = [nm for nm in os.listdir(threes_path) if '.png' in nm]  # make sure to only load .png\n",
    "threes_names.sort()  # sort file names\n",
    "ic = skimage.io.imread_collection(([os.path.join(threes_path, nm) for nm in threes_names]))\n",
    "threes_im = skimage.io.concatenate_images(ic)\n",
    "\n",
    "# Plot images\n",
    "fig, axes = plt.subplots(2, len(twos_im), figsize=(12, 3))\n",
    "for ax, im, nm in zip(axes[0], twos_im, twos_names):\n",
    "    ax.imshow(im, cmap='gray')\n",
    "    ax.axis('off')\n",
    "    ax.set_title(nm)\n",
    "for ax, im, nm in zip(axes[1], threes_im, threes_names):\n",
    "    ax.imshow(im, cmap='gray')\n",
    "    ax.axis('off')\n",
    "    ax.set_title(nm)"
   ]
  },
  {
   "cell_type": "markdown",
   "metadata": {},
   "source": [
    "### 2.2 Additional method(s) and conclusion\n",
    "Add your implementations and discussions here"
   ]
  },
  {
   "cell_type": "code",
   "execution_count": 322,
   "metadata": {},
   "outputs": [
    {
     "data": {
      "image/png": "[encoded data removed]",
      "text/plain": [
       "<Figure size 432x288 with 1 Axes>"
      ]
     },
     "metadata": {
      "needs_background": "light"
     },
     "output_type": "display_data"
    }
   ],
   "source": [
    "features = []\n",
    "contours = []\n",
    "images = np.append(zeros_im,ones_im,axis = 0)\n",
    "images = np.append(images,twos_im,axis = 0)\n",
    "images = np.append(images,threes_im,axis = 0)\n",
    "#images = np.append(twos_im,threes_im,axis = 0)\n",
    "\n",
    "for im in images:\n",
    "    sp,contour = dft_computation(im)\n",
    "    features.append(sp)\n",
    "    contours.append(contour)\n",
    "features = np.array(features)\n",
    "X = np.append(features.real,features.imag,axis=1)\n",
    "features = np.absolute(features)\n",
    "\n",
    "kmeans = KMeans(n_clusters=4, random_state=0).fit(features)\n",
    "kmeans.labels_\n",
    "LABEL_COLOR_MAP = {0 : 'r', 1 : 'k', 2: 'b', 3: 'g'}\n",
    "LABEL_NAME_MAP =  {0 : '1', 1 : '0', 2 : 'Outlier', 3 : '2/3'}\n",
    "MARKER_MAP = {0 : 'v', 1: 'o', 2: '*', 3:'X'}\n",
    "markers = [MARKER_MAP[i//10] for i in range(images.shape[0])]\n",
    "label_color = [LABEL_COLOR_MAP[l] for l in kmeans.labels_]\n",
    "\n",
    "fig, ax = plt.subplots()\n",
    "for xp, yp, color, m in zip(features[:,0], features[:,1], label_color, markers):\n",
    "    ax.scatter([xp],[yp],c = color, marker=m)\n",
    "plt.show()"
   ]
  },
  {
   "cell_type": "code",
   "execution_count": 323,
   "metadata": {},
   "outputs": [
    {
     "data": {
      "image/png": "[encoded data removed]",
      "text/plain": [
       "<Figure size 1728x216 with 40 Axes>"
      ]
     },
     "metadata": {
      "needs_background": "light"
     },
     "output_type": "display_data"
    }
   ],
   "source": [
    "img_name = [LABEL_NAME_MAP[l] for l in kmeans.labels_]\n",
    "\n",
    "fig, axes = plt.subplots(1, len(images), figsize=(24, 3))\n",
    "\n",
    "for ax, im, nm in zip(axes, contours, img_name):\n",
    "    ax.imshow(im, cmap='gray')\n",
    "    ax.axis('off')\n",
    "    ax.set_title(nm)"
   ]
  },
  {
   "cell_type": "code",
   "execution_count": null,
   "metadata": {},
   "outputs": [],
   "source": []
  }
 ],
 "metadata": {
  "kernelspec": {
   "display_name": "Python 3",
   "language": "python",
   "name": "python3"
  },
  "language_info": {
   "codemirror_mode": {
    "name": "ipython",
    "version": 3
   },
   "file_extension": ".py",
   "mimetype": "text/x-python",
   "name": "python",
   "nbconvert_exporter": "python",
   "pygments_lexer": "ipython3",
   "version": "3.7.4"
  }
 },
 "nbformat": 4,
 "nbformat_minor": 2
}
