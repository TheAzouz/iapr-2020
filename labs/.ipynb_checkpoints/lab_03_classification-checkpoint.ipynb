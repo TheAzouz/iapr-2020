{
 "cells": [
  {
   "cell_type": "markdown",
   "metadata": {},
   "source": [
    "# [IAPR 2020:][iapr2020] Lab 3 ‒  Classification\n",
    "\n",
    "**Author:** first_name_1 last_name_1, first_name_2 last_name_2, first_name_3 last_name_3  \n",
    "**Due date:** 08.05.2020\n",
    "\n",
    "[iapr2018]: https://github.com/LTS5/iapr-2018"
   ]
  },
  {
   "cell_type": "markdown",
   "metadata": {},
   "source": [
    "## Extract relevant data\n",
    "We first need to extract the `lab-03-data.tar.gz` archive.\n",
    "To this end, we use the [tarfile] module from the Python standard library.\n",
    "\n",
    "[tarfile]: https://docs.python.org/3.6/library/tarfile.html"
   ]
  },
  {
   "cell_type": "code",
   "execution_count": 3,
   "metadata": {},
   "outputs": [],
   "source": [
    "import tarfile\n",
    "import os\n",
    "\n",
    "data_base_path = os.path.join(os.pardir, 'data')\n",
    "data_folder = 'lab-03-data'\n",
    "tar_path = os.path.join(data_base_path, data_folder + '.tar.gz')\n",
    "with tarfile.open(tar_path, mode='r:gz') as tar:\n",
    "    tar.extractall(path=data_base_path)"
   ]
  },
  {
   "cell_type": "markdown",
   "metadata": {},
   "source": [
    "## Part 1\n",
    "In this part, we will study classification based on the data available in the Matlab file `classification.mat` that you will under `lab-03-data/part1`.\n",
    "There are 3 data sets in this file, each one being a training set for a given class.\n",
    "They are contained in variables `a`, `b` and `c`.\n",
    "\n",
    "**Note**: we can load Matlab files using the [scipy.io] module.\n",
    "\n",
    "[scipy.io]: https://docs.scipy.org/doc/scipy/reference/io.html"
   ]
  },
  {
   "cell_type": "code",
   "execution_count": 4,
   "metadata": {},
   "outputs": [
    {
     "name": "stdout",
     "output_type": "stream",
     "text": [
      "(200, 2) (200, 2) (200, 2)\n"
     ]
    }
   ],
   "source": [
    "import scipy.io\n",
    "\n",
    "data_part1_path = os.path.join(data_base_path, data_folder, 'part1', 'classification.mat')\n",
    "matfile = scipy.io.loadmat(data_part1_path)\n",
    "a = matfile['a']\n",
    "b = matfile['b']\n",
    "c = matfile['c']\n",
    "\n",
    "print(a.shape, b.shape, c.shape)"
   ]
  },
  {
   "cell_type": "markdown",
   "metadata": {},
   "source": [
    "### 1.1 Bayes method\n",
    "Using the Bayes method, give the analytical expression of the separation curves between those three classes.\n",
    "Do reasonable hypotheses about the distributions of those classes and estimate the corresponding parameters based on the given training sets.\n",
    "Draw those curves on a plot, together with the training data.\n",
    "For simplicity reasons, round the estimated parameters to the closest integer value.\n",
    "\n",
    "*Add your implementation and discussion*"
   ]
  },
  {
   "cell_type": "markdown",
   "metadata": {},
   "source": [
    "### 1.2 Mahalanobis distance\n",
    "For classes `a` and `b`, give the expression of the Mahalanobis distance used to classify a point in class `a` or `b`, and verify the obtained classification, in comparison with the \"complete\" Bayes classification, for a few points of the plane.\n",
    "\n",
    "*Add your implementation and discussion*"
   ]
  },
  {
   "cell_type": "markdown",
   "metadata": {},
   "source": [
    "## Part 2\n",
    "In this part, we aim to classify digits using the complete version of MNIST digits dataset.\n",
    "The dataset consists of 60'000 training images and 10'000 test images of handwritten digits.\n",
    "Each image has size 28x28, and has assigned a label from zero to nine, denoting the digits value.\n",
    "Given this data, your task is to construct a Multilayer Perceptron (MLP) for supervised training and classification and evaluate it on the test images.\n",
    "\n",
    "Download the MNIST dataset (all 4 files) from http://yann.lecun.com/exdb/mnist/ under `lab-03-data/part2`.\n",
    "You can then use the script provided below to extract and load training and testing images in Python.\n",
    "\n",
    "To create an MLP you are free to choose any library.\n",
    "In case you don't have any preferences, we encourage you to use the [scikit-learn] package; it is a simple, efficient and free tool for data analysis and machine learning.\n",
    "In this [link][sklearn-example], you can find a basic example to see how to create and train an MLP using [scikit-learn].\n",
    "Your network should have the following properties:\n",
    "* Input `x`: 784-dimensional (i.e. 784 visible units representing the flattened 28x28 pixel images).\n",
    "* 100 hidden units `h`.\n",
    "* 10 output units `y`, i.e. the labels, with a value close to one in the i-th class representing a high probability of the input representing the digit `i`.\n",
    "\n",
    "If you need additional examples you can borrow some code from image classification tutorials.\n",
    "However, we recommend that you construct a minimal version of the network on your own to gain better insights.\n",
    "\n",
    "[scikit-learn]: http://scikit-learn.org/stable/index.html\n",
    "[sklearn-example]: http://scikit-learn.org/stable/modules/neural_networks_supervised.html"
   ]
  },
  {
   "cell_type": "markdown",
   "metadata": {},
   "source": [
    "### 2.1 Dataset loading\n",
    "Here we first declare the methods `extract_data` and `extract_labels` so that we can reuse them later in the code.\n",
    "Then we extract both the data and corresponding labels, and plot randomly some images and corresponding labels of the training set."
   ]
  },
  {
   "cell_type": "code",
   "execution_count": 5,
   "metadata": {},
   "outputs": [],
   "source": [
    "import gzip\n",
    "import numpy as np\n",
    "import matplotlib.pyplot as plt\n",
    "\n",
    "def extract_data(filename, image_shape, image_number):\n",
    "    with gzip.open(filename) as bytestream:\n",
    "        bytestream.read(16)\n",
    "        buf = bytestream.read(np.prod(image_shape) * image_number)\n",
    "        data = np.frombuffer(buf, dtype=np.uint8).astype(np.float32)\n",
    "        data = data.reshape(image_number, image_shape[0], image_shape[1])\n",
    "    return data\n",
    "\n",
    "\n",
    "def extract_labels(filename, image_number):\n",
    "    with gzip.open(filename) as bytestream:\n",
    "        bytestream.read(8)\n",
    "        buf = bytestream.read(1 * image_number)\n",
    "        labels = np.frombuffer(buf, dtype=np.uint8).astype(np.int64)\n",
    "    return labels"
   ]
  },
  {
   "cell_type": "code",
   "execution_count": 6,
   "metadata": {},
   "outputs": [],
   "source": [
    "image_shape = (28, 28)\n",
    "train_set_size = 60000\n",
    "test_set_size = 10000\n",
    "\n",
    "data_part2_folder = os.path.join(data_base_path, data_folder, 'part2')\n",
    "\n",
    "train_images_path = os.path.join(data_part2_folder, 'train-images-idx3-ubyte.gz')\n",
    "train_labels_path = os.path.join(data_part2_folder, 'train-labels-idx1-ubyte.gz')\n",
    "test_images_path = os.path.join(data_part2_folder, 't10k-images-idx3-ubyte.gz')\n",
    "test_labels_path = os.path.join(data_part2_folder, 't10k-labels-idx1-ubyte.gz')\n",
    "\n",
    "train_images = extract_data(train_images_path, image_shape, train_set_size)\n",
    "test_images = extract_data(test_images_path, image_shape, test_set_size)\n",
    "train_labels = extract_labels(train_labels_path, train_set_size)\n",
    "test_labels = extract_labels(test_labels_path, test_set_size)"
   ]
  },
  {
   "cell_type": "code",
   "execution_count": 7,
   "metadata": {},
   "outputs": [
    {
     "data": {
      "image/png": "[encoded data removed]",
      "text/plain": [
       "<Figure size 864x216 with 10 Axes>"
      ]
     },
     "metadata": {
      "needs_background": "light"
     },
     "output_type": "display_data"
    }
   ],
   "source": [
    "prng = np.random.RandomState(seed=123456789)  # seed to always re-draw the same distribution\n",
    "plt_ind = prng.randint(low=0, high=train_set_size, size=10)\n",
    "\n",
    "fig, axes = plt.subplots(1, 10, figsize=(12, 3))\n",
    "for ax, im, lb in zip(axes, train_images[plt_ind], train_labels[plt_ind]):\n",
    "    ax.imshow(im, cmap='gray')\n",
    "    ax.axis('off')\n",
    "    ax.set_title(lb)"
   ]
  },
  {
   "cell_type": "markdown",
   "metadata": {},
   "source": [
    "### 2.2 MLP\n",
    "*Add your implementation and discussion*"
   ]
  },
  {
   "cell_type": "code",
   "execution_count": 20,
   "metadata": {},
   "outputs": [],
   "source": [
    "import sklearn \n",
    "from sklearn.preprocessing import StandardScaler\n",
    "from time import time\n",
    "from sklearn.linear_model import LogisticRegression\n",
    "from sklearn.decomposition import PCA"
   ]
  },
  {
   "cell_type": "markdown",
   "metadata": {},
   "source": [
    "First we transform our images to numpy arrays"
   ]
  },
  {
   "cell_type": "code",
   "execution_count": 10,
   "metadata": {},
   "outputs": [],
   "source": [
    "X_train = np.array(train_images)\n",
    "X_test = np.array(test_images)"
   ]
  },
  {
   "cell_type": "markdown",
   "metadata": {},
   "source": [
    "In order to reshape the images into vectors we need the number of samples of the training set and the testing set"
   ]
  },
  {
   "cell_type": "code",
   "execution_count": 11,
   "metadata": {},
   "outputs": [],
   "source": [
    "N_train, w, h = X_train.shape\n",
    "N_test,_,_ = X_test.shape"
   ]
  },
  {
   "cell_type": "code",
   "execution_count": 12,
   "metadata": {},
   "outputs": [],
   "source": [
    "X_train = X_train.reshape(N_train,-1)\n",
    "X_test = X_test.reshape(N_test,-1)"
   ]
  },
  {
   "cell_type": "code",
   "execution_count": 13,
   "metadata": {},
   "outputs": [
    {
     "data": {
      "text/plain": [
       "(10000, 784)"
      ]
     },
     "execution_count": 13,
     "metadata": {},
     "output_type": "execute_result"
    }
   ],
   "source": [
    "X_test.shape"
   ]
  },
  {
   "cell_type": "markdown",
   "metadata": {},
   "source": [
    "We standerdize the data to avoid overflows and its always a good thing. Moreover, we will be using PCA in order to improve the classification. For that, data need to be standerdized."
   ]
  },
  {
   "cell_type": "code",
   "execution_count": 14,
   "metadata": {},
   "outputs": [],
   "source": [
    "scaler = StandardScaler()\n",
    "scaler.fit(X_train)\n",
    "# Apply transform to both the training set and the test set\n",
    "X_train_pca = scaler.transform(X_train, copy= False)\n",
    "X_test_pca = scaler.transform(X_test, copy= False)"
   ]
  },
  {
   "cell_type": "markdown",
   "metadata": {},
   "source": [
    "Here, we use logistic regression in order to classify our data."
   ]
  },
  {
   "cell_type": "code",
   "execution_count": 15,
   "metadata": {},
   "outputs": [
    {
     "name": "stderr",
     "output_type": "stream",
     "text": [
      "/opt/anaconda3/lib/python3.7/site-packages/sklearn/linear_model/logistic.py:469: FutureWarning: Default multi_class will be changed to 'auto' in 0.22. Specify the multi_class option to silence this warning.\n",
      "  \"this warning.\", FutureWarning)\n",
      "[Parallel(n_jobs=1)]: Using backend SequentialBackend with 1 concurrent workers.\n",
      "[Parallel(n_jobs=1)]: Done   1 out of   1 | elapsed:   20.9s remaining:    0.0s\n"
     ]
    },
    {
     "name": "stdout",
     "output_type": "stream",
     "text": [
      "The total time is 257.4868469238281 seconds \n",
      "0.9175\n"
     ]
    },
    {
     "name": "stderr",
     "output_type": "stream",
     "text": [
      "[Parallel(n_jobs=1)]: Done  10 out of  10 | elapsed:  4.3min finished\n"
     ]
    }
   ],
   "source": [
    "tic = time()\n",
    "\n",
    "# Fit a linear regression model\n",
    "clf = LogisticRegression(solver ='lbfgs', tol = 1e-2, max_iter = 1000, random_state=0,verbose=2).fit(X_train, train_labels)\n",
    "# Compute the classification score\n",
    "score = clf.score(X_test,test_labels)\n",
    "\n",
    "toc = time()\n",
    "print('The total time is %s seconds ' % (toc-tic))\n",
    "print(score)"
   ]
  },
  {
   "cell_type": "markdown",
   "metadata": {},
   "source": [
    "Here we try to improve our accuracy with PCA. We take 95% of the energy of the data. lower than that, the accuracy decreases. This is quite expected as the PCA decreases information held by the data."
   ]
  },
  {
   "cell_type": "code",
   "execution_count": 18,
   "metadata": {},
   "outputs": [],
   "source": [
    "pca = PCA(0.95)\n",
    "pca.fit(X_train)\n",
    "origi_img = X_train\n",
    "trans_img = pca.fit_transform(origi_img)\n",
    "trans_img = pca.inverse_transform(trans_img)"
   ]
  },
  {
   "cell_type": "code",
   "execution_count": 19,
   "metadata": {},
   "outputs": [
    {
     "name": "stderr",
     "output_type": "stream",
     "text": [
      "/opt/anaconda3/lib/python3.7/site-packages/sklearn/linear_model/logistic.py:469: FutureWarning: Default multi_class will be changed to 'auto' in 0.22. Specify the multi_class option to silence this warning.\n",
      "  \"this warning.\", FutureWarning)\n",
      "[Parallel(n_jobs=1)]: Using backend SequentialBackend with 1 concurrent workers.\n",
      "[Parallel(n_jobs=1)]: Done   1 out of   1 | elapsed:   21.8s remaining:    0.0s\n"
     ]
    },
    {
     "name": "stdout",
     "output_type": "stream",
     "text": [
      "The total time is 283.9687716960907 seconds\n",
      "0.9192\n"
     ]
    },
    {
     "name": "stderr",
     "output_type": "stream",
     "text": [
      "[Parallel(n_jobs=1)]: Done  10 out of  10 | elapsed:  4.7min finished\n"
     ]
    }
   ],
   "source": [
    "trans_test = pca.fit_transform(X_test)\n",
    "trans_test = pca.inverse_transform(trans_test)\n",
    "tic = time()\n",
    "\n",
    "# Fit a logistic regression model on the PCA coefficients\n",
    "clf = LogisticRegression(solver ='lbfgs', tol = 1e-2, max_iter = 1000, random_state=0,verbose=2)\\\n",
    "                        .fit(trans_img, train_labels)\n",
    "\n",
    "score = clf.score(trans_test,test_labels)\n",
    "\n",
    "toc = time()\n",
    "\n",
    "print('The total time is %s seconds' % (toc-tic))\n",
    "print(score)"
   ]
  },
  {
   "cell_type": "markdown",
   "metadata": {},
   "source": [
    "We can see an improvement of the accuracy by 1.6%.\n",
    "In the next step, we will use CNN which is a promising machine learning technique. CNN mimic human way to recognize images which explains its very good results and diffrent image classification problems."
   ]
  },
  {
   "cell_type": "code",
   "execution_count": 21,
   "metadata": {},
   "outputs": [],
   "source": [
    "import tensorflow as tf\n",
    "from tensorflow.keras.models import Sequential\n",
    "from tensorflow.keras.layers import Dense, Conv2D, Flatten"
   ]
  },
  {
   "cell_type": "markdown",
   "metadata": {},
   "source": [
    "We need to reshape the images in order to feed it to the network. Conv2D need a 4 dimension input (N_samples, im_width, im_height, n_color_space). n_color_space is 1 in this case since we have grayscale images.\n",
    "Moreover, this is a multiclassification problem, so we need to transform the output layer."
   ]
  },
  {
   "cell_type": "code",
   "execution_count": 22,
   "metadata": {},
   "outputs": [],
   "source": [
    "x_train = np.array(train_images).reshape(N_train,w,h,1)\n",
    "x_test = np.array(test_images).reshape(N_test,w,h,1)\n",
    "\n",
    "y_train = np.zeros((N_train,10))\n",
    "for n, i in enumerate(train_labels):\n",
    "    y_train[n][i] = 1\n",
    "    \n",
    "y_test = np.zeros((N_test,10))\n",
    "for n, i in enumerate(test_labels):\n",
    "    y_test[n][i] = 1"
   ]
  },
  {
   "cell_type": "markdown",
   "metadata": {},
   "source": [
    "We chose the following architecture. 3 convolution layers, and 3 hidden layers and one output layer."
   ]
  },
  {
   "cell_type": "code",
   "execution_count": 23,
   "metadata": {},
   "outputs": [
    {
     "name": "stdout",
     "output_type": "stream",
     "text": [
      "Model: \"sequential\"\n",
      "_________________________________________________________________\n",
      "Layer (type)                 Output Shape              Param #   \n",
      "=================================================================\n",
      "conv2d (Conv2D)              (None, 28, 28, 10)        100       \n",
      "_________________________________________________________________\n",
      "conv2d_1 (Conv2D)            (None, 28, 28, 5)         455       \n",
      "_________________________________________________________________\n",
      "conv2d_2 (Conv2D)            (None, 28, 28, 3)         138       \n",
      "_________________________________________________________________\n",
      "flatten (Flatten)            (None, 2352)              0         \n",
      "_________________________________________________________________\n",
      "dense (Dense)                (None, 10)                23530     \n",
      "_________________________________________________________________\n",
      "dense_1 (Dense)              (None, 25)                275       \n",
      "_________________________________________________________________\n",
      "dense_2 (Dense)              (None, 25)                650       \n",
      "_________________________________________________________________\n",
      "dense_3 (Dense)              (None, 10)                260       \n",
      "=================================================================\n",
      "Total params: 25,408\n",
      "Trainable params: 25,408\n",
      "Non-trainable params: 0\n",
      "_________________________________________________________________\n"
     ]
    }
   ],
   "source": [
    "IMG_HEIGHT = 28\n",
    "IMG_WIDTH = 28\n",
    "model = Sequential([\n",
    "    Conv2D(10, 3, padding='same', activation='relu', input_shape=(IMG_HEIGHT, IMG_WIDTH ,1)),\n",
    "    Conv2D(5, 3, padding='same', activation='relu'),\n",
    "    Conv2D(3, 3, padding='same', activation='relu'),\n",
    "    Flatten(),\n",
    "    Dense(10, activation='relu'),\n",
    "    Dense(25,activation='relu'),\n",
    "    Dense(25,activation='relu'),\n",
    "    Dense(10, activation='sigmoid')\n",
    "])\n",
    "model.compile(optimizer='sgd',\n",
    "              loss='binary_crossentropy',\n",
    "              metrics=['accuracy'])\n",
    "model.summary()"
   ]
  },
  {
   "cell_type": "code",
   "execution_count": 105,
   "metadata": {},
   "outputs": [
    {
     "name": "stdout",
     "output_type": "stream",
     "text": [
      "Train on 60000 samples, validate on 10000 samples\n",
      "Epoch 1/50\n",
      "60000/60000 [==============================] - 44s 727us/sample - loss: 0.3369 - accuracy: 0.8615 - val_loss: 0.2036 - val_accuracy: 0.9259\n",
      "Epoch 2/50\n",
      "60000/60000 [==============================] - 47s 789us/sample - loss: 0.1671 - accuracy: 0.9370 - val_loss: 0.1526 - val_accuracy: 0.9410\n",
      "Epoch 3/50\n",
      "60000/60000 [==============================] - 55s 921us/sample - loss: 0.1112 - accuracy: 0.9613 - val_loss: 0.0925 - val_accuracy: 0.9689\n",
      "Epoch 4/50\n",
      "60000/60000 [==============================] - 48s 807us/sample - loss: 0.0895 - accuracy: 0.9702 - val_loss: 0.0786 - val_accuracy: 0.9744\n",
      "Epoch 5/50\n",
      "60000/60000 [==============================] - 46s 768us/sample - loss: 0.0781 - accuracy: 0.9745 - val_loss: 0.0718 - val_accuracy: 0.9766\n",
      "Epoch 6/50\n",
      "60000/60000 [==============================] - 53s 883us/sample - loss: 0.0711 - accuracy: 0.9769 - val_loss: 0.0668 - val_accuracy: 0.9785\n",
      "Epoch 7/50\n",
      "60000/60000 [==============================] - 47s 786us/sample - loss: 0.0665 - accuracy: 0.9786 - val_loss: 0.0691 - val_accuracy: 0.9775\n",
      "Epoch 8/50\n",
      "60000/60000 [==============================] - 46s 759us/sample - loss: 0.0623 - accuracy: 0.9800 - val_loss: 0.0605 - val_accuracy: 0.9812\n",
      "Epoch 9/50\n",
      "60000/60000 [==============================] - 52s 874us/sample - loss: 0.0582 - accuracy: 0.9815 - val_loss: 0.0548 - val_accuracy: 0.9830\n",
      "Epoch 10/50\n",
      "60000/60000 [==============================] - 45s 757us/sample - loss: 0.0545 - accuracy: 0.9826 - val_loss: 0.0516 - val_accuracy: 0.9837\n",
      "Epoch 11/50\n",
      "60000/60000 [==============================] - 44s 741us/sample - loss: 0.0507 - accuracy: 0.9840 - val_loss: 0.0497 - val_accuracy: 0.9845\n",
      "Epoch 12/50\n",
      "60000/60000 [==============================] - 46s 763us/sample - loss: 0.0474 - accuracy: 0.9851 - val_loss: 0.0459 - val_accuracy: 0.9854\n",
      "Epoch 13/50\n",
      "60000/60000 [==============================] - 44s 735us/sample - loss: 0.0448 - accuracy: 0.9859 - val_loss: 0.0429 - val_accuracy: 0.9866\n",
      "Epoch 14/50\n",
      "60000/60000 [==============================] - 45s 755us/sample - loss: 0.0423 - accuracy: 0.9867 - val_loss: 0.0412 - val_accuracy: 0.9870\n",
      "Epoch 15/50\n",
      "60000/60000 [==============================] - 46s 762us/sample - loss: 0.0402 - accuracy: 0.9873 - val_loss: 0.0384 - val_accuracy: 0.9879\n",
      "Epoch 16/50\n",
      "60000/60000 [==============================] - 47s 782us/sample - loss: 0.0384 - accuracy: 0.9879 - val_loss: 0.0367 - val_accuracy: 0.9887\n",
      "Epoch 17/50\n",
      "60000/60000 [==============================] - 46s 766us/sample - loss: 0.0368 - accuracy: 0.9884 - val_loss: 0.0363 - val_accuracy: 0.9887\n",
      "Epoch 18/50\n",
      "60000/60000 [==============================] - 45s 743us/sample - loss: 0.0354 - accuracy: 0.9889 - val_loss: 0.0337 - val_accuracy: 0.9893\n",
      "Epoch 19/50\n",
      "60000/60000 [==============================] - 45s 753us/sample - loss: 0.0341 - accuracy: 0.9892 - val_loss: 0.0332 - val_accuracy: 0.9897\n",
      "Epoch 20/50\n",
      "60000/60000 [==============================] - 44s 733us/sample - loss: 0.0331 - accuracy: 0.9897 - val_loss: 0.0315 - val_accuracy: 0.9901\n",
      "Epoch 21/50\n",
      "60000/60000 [==============================] - 45s 749us/sample - loss: 0.0321 - accuracy: 0.9900 - val_loss: 0.0311 - val_accuracy: 0.9902\n",
      "Epoch 22/50\n",
      "60000/60000 [==============================] - 48s 797us/sample - loss: 0.0312 - accuracy: 0.9903 - val_loss: 0.0305 - val_accuracy: 0.9902\n",
      "Epoch 23/50\n",
      "60000/60000 [==============================] - 46s 761us/sample - loss: 0.0304 - accuracy: 0.9904 - val_loss: 0.0296 - val_accuracy: 0.9906\n",
      "Epoch 24/50\n",
      "60000/60000 [==============================] - 46s 761us/sample - loss: 0.0295 - accuracy: 0.9908 - val_loss: 0.0287 - val_accuracy: 0.9910\n",
      "Epoch 25/50\n",
      "60000/60000 [==============================] - 45s 755us/sample - loss: 0.0288 - accuracy: 0.9909 - val_loss: 0.0293 - val_accuracy: 0.9905\n",
      "Epoch 26/50\n",
      "60000/60000 [==============================] - 44s 732us/sample - loss: 0.0283 - accuracy: 0.9911 - val_loss: 0.0281 - val_accuracy: 0.9912\n",
      "Epoch 27/50\n",
      "60000/60000 [==============================] - 45s 748us/sample - loss: 0.0277 - accuracy: 0.9913 - val_loss: 0.0269 - val_accuracy: 0.9916\n",
      "Epoch 28/50\n",
      "60000/60000 [==============================] - 46s 760us/sample - loss: 0.0271 - accuracy: 0.9915 - val_loss: 0.0265 - val_accuracy: 0.9917\n",
      "Epoch 29/50\n",
      "60000/60000 [==============================] - 44s 741us/sample - loss: 0.0266 - accuracy: 0.9916 - val_loss: 0.0263 - val_accuracy: 0.9917\n",
      "Epoch 30/50\n",
      "60000/60000 [==============================] - 44s 741us/sample - loss: 0.0263 - accuracy: 0.9916 - val_loss: 0.0260 - val_accuracy: 0.9917\n",
      "Epoch 31/50\n",
      "60000/60000 [==============================] - 45s 746us/sample - loss: 0.0257 - accuracy: 0.9919 - val_loss: 0.0260 - val_accuracy: 0.9917\n",
      "Epoch 32/50\n",
      "60000/60000 [==============================] - 45s 746us/sample - loss: 0.0253 - accuracy: 0.9919 - val_loss: 0.0262 - val_accuracy: 0.9916\n",
      "Epoch 33/50\n",
      "60000/60000 [==============================] - 45s 752us/sample - loss: 0.0248 - accuracy: 0.9921 - val_loss: 0.0250 - val_accuracy: 0.9921\n",
      "Epoch 34/50\n",
      "60000/60000 [==============================] - 45s 747us/sample - loss: 0.0245 - accuracy: 0.9922 - val_loss: 0.0265 - val_accuracy: 0.9913\n",
      "Epoch 35/50\n",
      "60000/60000 [==============================] - 45s 747us/sample - loss: 0.0241 - accuracy: 0.9924 - val_loss: 0.0248 - val_accuracy: 0.9919\n",
      "Epoch 36/50\n",
      "60000/60000 [==============================] - 44s 738us/sample - loss: 0.0236 - accuracy: 0.9926 - val_loss: 0.0263 - val_accuracy: 0.9914\n",
      "Epoch 37/50\n",
      "60000/60000 [==============================] - 44s 733us/sample - loss: 0.0233 - accuracy: 0.9926 - val_loss: 0.0237 - val_accuracy: 0.9925\n",
      "Epoch 38/50\n",
      "60000/60000 [==============================] - 44s 732us/sample - loss: 0.0231 - accuracy: 0.9927 - val_loss: 0.0234 - val_accuracy: 0.9925\n",
      "Epoch 39/50\n",
      "60000/60000 [==============================] - 44s 737us/sample - loss: 0.0227 - accuracy: 0.9928 - val_loss: 0.0253 - val_accuracy: 0.9917\n",
      "Epoch 40/50\n",
      "60000/60000 [==============================] - 44s 741us/sample - loss: 0.0225 - accuracy: 0.9929 - val_loss: 0.0232 - val_accuracy: 0.9925\n",
      "Epoch 41/50\n",
      "60000/60000 [==============================] - 44s 733us/sample - loss: 0.0222 - accuracy: 0.9930 - val_loss: 0.0223 - val_accuracy: 0.9929\n",
      "Epoch 42/50\n",
      "60000/60000 [==============================] - 45s 743us/sample - loss: 0.0220 - accuracy: 0.9930 - val_loss: 0.0228 - val_accuracy: 0.9927\n",
      "Epoch 43/50\n",
      "60000/60000 [==============================] - 44s 735us/sample - loss: 0.0217 - accuracy: 0.9930 - val_loss: 0.0221 - val_accuracy: 0.9930\n",
      "Epoch 44/50\n",
      "60000/60000 [==============================] - 44s 736us/sample - loss: 0.0213 - accuracy: 0.9931 - val_loss: 0.0227 - val_accuracy: 0.9930\n",
      "Epoch 45/50\n",
      "60000/60000 [==============================] - 45s 744us/sample - loss: 0.0212 - accuracy: 0.9932 - val_loss: 0.0219 - val_accuracy: 0.9930\n",
      "Epoch 46/50\n",
      "60000/60000 [==============================] - 45s 743us/sample - loss: 0.0210 - accuracy: 0.9933 - val_loss: 0.0230 - val_accuracy: 0.9926\n",
      "Epoch 47/50\n",
      "60000/60000 [==============================] - 45s 746us/sample - loss: 0.0207 - accuracy: 0.9933 - val_loss: 0.0224 - val_accuracy: 0.9930\n",
      "Epoch 48/50\n",
      "60000/60000 [==============================] - 45s 750us/sample - loss: 0.0207 - accuracy: 0.9935 - val_loss: 0.0217 - val_accuracy: 0.9930\n",
      "Epoch 49/50\n",
      "60000/60000 [==============================] - 46s 763us/sample - loss: 0.0203 - accuracy: 0.9934 - val_loss: 0.0215 - val_accuracy: 0.9932\n",
      "Epoch 50/50\n",
      "60000/60000 [==============================] - 45s 747us/sample - loss: 0.0200 - accuracy: 0.9936 - val_loss: 0.0216 - val_accuracy: 0.9931\n"
     ]
    }
   ],
   "source": [
    "epochs = 50\n",
    "history = model.fit(x_train, y_train, batch_size=128, epochs=epochs, validation_data = [x_test,y_test])"
   ]
  },
  {
   "cell_type": "code",
   "execution_count": 106,
   "metadata": {},
   "outputs": [
    {
     "data": {
      "image/png": "[encoded data removed]",
      "text/plain": [
       "<Figure size 864x432 with 2 Axes>"
      ]
     },
     "metadata": {
      "needs_background": "light"
     },
     "output_type": "display_data"
    }
   ],
   "source": [
    "acc = history.history['accuracy']\n",
    "val_acc = history.history['val_accuracy']\n",
    "\n",
    "loss = history.history['loss']\n",
    "val_loss = history.history['val_loss']\n",
    "\n",
    "epochs_range = range(epochs)\n",
    "\n",
    "plt.figure(figsize=(12, 6))\n",
    "plt.subplot(1, 2, 1)\n",
    "plt.plot(epochs_range, acc, label='Training Accuracy')\n",
    "plt.plot(epochs_range, val_acc, label='Validation Accuracy')\n",
    "plt.legend(loc='lower right')\n",
    "plt.title('Training and Validation Accuracy')\n",
    "\n",
    "plt.subplot(1, 2, 2)\n",
    "plt.plot(epochs_range, loss, label='Training Loss')\n",
    "plt.plot(epochs_range, val_loss, label='Validation Loss')\n",
    "plt.legend(loc='upper right')\n",
    "plt.title('Training and Validation Loss')\n",
    "plt.show()"
   ]
  },
  {
   "cell_type": "markdown",
   "metadata": {},
   "source": [
    "As expected, CNN offers an almost perfect classification. We get up to 99.31% of accuracy in our validation set. We will definately use this model in our project."
   ]
  },
  {
   "cell_type": "code",
   "execution_count": null,
   "metadata": {},
   "outputs": [],
   "source": []
  }
 ],
 "metadata": {
  "kernelspec": {
   "display_name": "Python 3",
   "language": "python",
   "name": "python3"
  },
  "language_info": {
   "codemirror_mode": {
    "name": "ipython",
    "version": 3
   },
   "file_extension": ".py",
   "mimetype": "text/x-python",
   "name": "python",
   "nbconvert_exporter": "python",
   "pygments_lexer": "ipython3",
   "version": "3.7.4"
  }
 },
 "nbformat": 4,
 "nbformat_minor": 2
}
