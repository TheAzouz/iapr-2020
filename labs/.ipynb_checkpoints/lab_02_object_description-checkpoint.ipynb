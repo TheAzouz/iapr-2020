{
 "cells": [
  {
   "cell_type": "markdown",
   "metadata": {},
   "source": [
    "# [IAPR 2020:][iapr2020] Lab 2 ‒  Object description\n",
    "\n",
    "**Authors:** first_name_1 last_name_1, first_name_2 last_name_2, first_name_3 last_name_3  \n",
    "**Due date:** 24.04.2020\n",
    "\n",
    "[iapr2020]: https://github.com/LTS5/iapr-2020"
   ]
  },
  {
   "cell_type": "markdown",
   "metadata": {},
   "source": [
    "## Extract relevant data\n",
    "We first need to extract the `lab-02-data.tar.gz` archive.\n",
    "To this end, we use the [tarfile] module from the Python standard library.\n",
    "\n",
    "[tarfile]: https://docs.python.org/3.6/library/tarfile.html"
   ]
  },
  {
   "cell_type": "code",
   "execution_count": 1,
   "metadata": {},
   "outputs": [],
   "source": [
    "import tarfile\n",
    "import os\n",
    "\n",
    "data_base_path = os.path.join(os.pardir, 'data')\n",
    "data_folder = 'lab-02-data'\n",
    "tar_path = os.path.join(data_base_path, data_folder + '.tar.gz')\n",
    "with tarfile.open(tar_path, mode='r:gz') as tar:\n",
    "    tar.extractall(path=data_base_path)"
   ]
  },
  {
   "cell_type": "markdown",
   "metadata": {},
   "source": [
    "## Part 1\n",
    "In the `lab-02-data/part1` folder, you will find 28x28 grey-scale pictures of handwritten \"0\" and \"1\".\n",
    "These digits have been extracted from MNIST dataset (http://yann.lecun.com/exdb/mnist/).\n",
    "\n",
    "Your goal is to extract, from each of those images, a 2-dimensional feature vector (i.e. 2 features) and to plot them all on a 2D graph.\n",
    "If you have chosen good features, the vectors of the \"0\"'s should nicely cluster in one part of the plane and those of the \"1\"'s in another.\n",
    "\n",
    "Please try first the Fourier Descriptors.\n",
    "You can make several attempts: e.g. with and without invariance to rotation, translation, scaling, etc.\n",
    "You can also for instance rotate the images and assess the invariance in rotation.\n",
    "\n",
    "**Note:** for the Fourier descriptors, the u_k signal has to be constructed by following the contour point after point.\n",
    "Some pre-processing (image binarization, possibly some Mathematical Morphology) might be useful.\n",
    "\n",
    "Then feel free to try other features, the more you try, the better it will be (for you)."
   ]
  },
  {
   "cell_type": "markdown",
   "metadata": {},
   "source": [
    "### 1.1 Data visualization"
   ]
  },
  {
   "cell_type": "code",
   "execution_count": 2,
   "metadata": {},
   "outputs": [
    {
     "data": {
      "image/png": "[encoded data removed]",
      "text/plain": [
       "<Figure size 864x216 with 20 Axes>"
      ]
     },
     "metadata": {
      "needs_background": "light"
     },
     "output_type": "display_data"
    }
   ],
   "source": [
    "import skimage.io\n",
    "import matplotlib.pyplot as plt\n",
    "%matplotlib inline\n",
    "\n",
    "# Load images\n",
    "data_base_path = os.path.join(os.pardir, 'data')\n",
    "data_folder = 'lab-02-data'\n",
    "#  Load zeros\n",
    "zeros_path = os.path.join(data_base_path, data_folder, 'part1', '0')\n",
    "zeros_names = [nm for nm in os.listdir(zeros_path) if '.png' in nm]  # make sure to only load .png\n",
    "zeros_names.sort()  # sort file names\n",
    "ic = skimage.io.imread_collection([os.path.join(zeros_path, nm) for nm in zeros_names])\n",
    "zeros_im = skimage.io.concatenate_images(ic)\n",
    "#  Load ones\n",
    "ones_path = os.path.join(data_base_path, data_folder, 'part1', '1')\n",
    "ones_names = [nm for nm in os.listdir(ones_path) if '.png' in nm]  # make sure to only load .png\n",
    "ones_names.sort()  # sort file names\n",
    "ic = skimage.io.imread_collection(([os.path.join(ones_path, nm) for nm in ones_names]))\n",
    "ones_im = skimage.io.concatenate_images(ic)\n",
    "\n",
    "# Plot images\n",
    "fig, axes = plt.subplots(2, len(zeros_im), figsize=(12, 3))\n",
    "for ax, im, nm in zip(axes[0], zeros_im, zeros_names):\n",
    "    ax.imshow(im, cmap='gray')\n",
    "    ax.axis('off')\n",
    "    ax.set_title(nm)\n",
    "for ax, im, nm in zip(axes[1], ones_im, ones_names):\n",
    "    ax.imshow(im, cmap='gray')\n",
    "    ax.axis('off')\n",
    "    ax.set_title(nm)"
   ]
  },
  {
   "cell_type": "code",
   "execution_count": 62,
   "metadata": {},
   "outputs": [],
   "source": [
    "import numpy as np\n",
    "from scipy.optimize import curve_fit\n",
    "import cv2\n",
    "from sklearn.cluster import KMeans, SpectralClustering\n",
    "from scipy import ndimage\n",
    "from sklearn.mixture import GaussianMixture\n",
    "from skimage import measure"
   ]
  },
  {
   "cell_type": "code",
   "execution_count": 48,
   "metadata": {},
   "outputs": [],
   "source": [
    "images = np.append(zeros_im,ones_im,axis = 0)"
   ]
  },
  {
   "cell_type": "markdown",
   "metadata": {},
   "source": [
    "### 1.2 Fourier descriptors\n",
    "Add your implementation and discussion"
   ]
  },
  {
   "cell_type": "markdown",
   "metadata": {},
   "source": [
    "#### Detect countour: Histogram based threshold: detect maxima and calculate minimum between maxima"
   ]
  },
  {
   "cell_type": "code",
   "execution_count": 57,
   "metadata": {},
   "outputs": [],
   "source": [
    "def threshold_detection(im):\n",
    "    '''\n",
    "    Simple threshold method detection.\n",
    "    Assumption: The histogram of the inpute picture contains two distant maxima\n",
    "    \n",
    "    Input: 1 channel image\n",
    "    output: binarization threshold\n",
    "    '''\n",
    "    hist , y = np.histogram(im.reshape(-1),bins=256)\n",
    "    max_ = [-1,-1]\n",
    "    indexes = [-1,-1]\n",
    "    counter = 0\n",
    "    for i in hist:\n",
    "        if i >= min(max_):\n",
    "            index_tmp = max_.index(min(max_))\n",
    "            max_[index_tmp] = i\n",
    "            indexes[index_tmp] = counter\n",
    "        counter +=1\n",
    "    \n",
    "    return int(y[int(sum(indexes)/2)])"
   ]
  },
  {
   "cell_type": "code",
   "execution_count": null,
   "metadata": {},
   "outputs": [],
   "source": []
  },
  {
   "cell_type": "code",
   "execution_count": 58,
   "metadata": {},
   "outputs": [],
   "source": [
    "def binarization(im,threshold):\n",
    "    '''\n",
    "    Simple binatization function.\n",
    "    Given a threshold, this function compute the corresponding binary image\n",
    "    \n",
    "    Input: 1 channel image, threshold\n",
    "    Output: binary image\n",
    "    '''\n",
    "    im_tmp = im.reshape(-1)\n",
    "    binary_image = np.zeros(im_tmp.shape)\n",
    "    for i in range(im_tmp.shape[0]):\n",
    "        if im_tmp[i] > threshold :\n",
    "            binary_image[i]=1\n",
    "            \n",
    "    return binary_image.reshape(im.shape)"
   ]
  },
  {
   "cell_type": "code",
   "execution_count": 59,
   "metadata": {},
   "outputs": [],
   "source": [
    "def low_pass_filter(img,size):\n",
    "    Kernel = np.ones((size,size),np.float32)/size**2\n",
    "    return ndimage.filters.convolve(img, Kernel)"
   ]
  },
  {
   "cell_type": "code",
   "execution_count": 60,
   "metadata": {},
   "outputs": [],
   "source": [
    "def contour_detection(im):\n",
    "    '''\n",
    "    Contour detection function based on the simple images we have.\n",
    "    \n",
    "    Input: grayscale image\n",
    "    Output: contour of the main feature ( In our application, handwritten digits )\n",
    "    \n",
    "    '''\n",
    "    img = low_pass_filter(im,3)\n",
    "    img_binary = binarization(img,threshold_detection(im))\n",
    "    img_filtered = low_pass_filter(img_binary,3)\n",
    "    \n",
    "    return binarization(img_filtered,threshold_detection(img_filtered))-img_binary"
   ]
  },
  {
   "cell_type": "code",
   "execution_count": 61,
   "metadata": {},
   "outputs": [
    {
     "data": {
      "image/png": "[encoded data removed]",
      "text/plain": [
       "<Figure size 1728x216 with 20 Axes>"
      ]
     },
     "metadata": {
      "needs_background": "light"
     },
     "output_type": "display_data"
    }
   ],
   "source": [
    "fig, axes = plt.subplots(1, len(images), figsize=(24, 3))\n",
    "for ax, im in zip(axes, images):\n",
    "    ax.imshow(contour_detection(im), cmap='gray')\n",
    "    ax.axis('off')"
   ]
  },
  {
   "cell_type": "code",
   "execution_count": 63,
   "metadata": {},
   "outputs": [],
   "source": [
    "contours = measure.find_contours(im, 0.8)"
   ]
  },
  {
   "cell_type": "raw",
   "metadata": {},
   "source": []
  },
  {
   "cell_type": "code",
   "execution_count": 64,
   "metadata": {},
   "outputs": [
    {
     "data": {
      "text/plain": [
       "<matplotlib.image.AxesImage at 0x1c2c4b75d0>"
      ]
     },
     "execution_count": 64,
     "metadata": {},
     "output_type": "execute_result"
    },
    {
     "data": {
      "image/png": "[encoded data removed]",
      "text/plain": [
       "<Figure size 432x288 with 1 Axes>"
      ]
     },
     "metadata": {
      "needs_background": "light"
     },
     "output_type": "display_data"
    }
   ],
   "source": [
    "plt.imshow(im)"
   ]
  },
  {
   "cell_type": "markdown",
   "metadata": {},
   "source": [
    "#### Create the complex number from the detected contour:   $ u_k = x_k + j*y_k $"
   ]
  },
  {
   "cell_type": "code",
   "execution_count": 24,
   "metadata": {},
   "outputs": [],
   "source": [
    "def get_unvisited_neighbors(img,xy,img_label, threshold):\n",
    "    # Return unvisited neighbors\n",
    "    (x,y) = xy\n",
    "    (w,h) = img.shape\n",
    "    neighbors = []\n",
    "    \n",
    "    for i in range(x-1,x+2):\n",
    "        for j in range(y-1,y+2):\n",
    "            if i>=0 and i<w and j>=0 and j<h:\n",
    "                # if the neighbor pixel satisfies the threshold and hasn't been visited yet\n",
    "                if img_label[i,j]==0 and img[i,j]>threshold:\n",
    "                    neighbors.append((i,j))\n",
    "                    \n",
    "    return neighbors\n",
    "\n",
    "def region_growing(img, seed, threshold):\n",
    "    # Return a region starting from a pixel for a given threshold\n",
    "    pixel_labels = np.zeros(img.shape)\n",
    "    stack = []\n",
    "    ordered_pixel = []\n",
    "    stack.append(seed)\n",
    "    while len(stack)>0:\n",
    "        pixel_to_label = stack.pop()\n",
    "        ordered_pixel.append(pixel_to_label)\n",
    "        pixel_labels[pixel_to_label] = 1\n",
    "        neighbors = get_unvisited_neighbors(img,pixel_to_label,pixel_labels, threshold)\n",
    "        \n",
    "        for i in range(len(neighbors)):\n",
    "            stack.append(neighbors[i])\n",
    "            # pixel is labelled\n",
    "            pixel_labels[neighbors[i]]=1\n",
    "            \n",
    "    return ordered_pixel"
   ]
  },
  {
   "cell_type": "code",
   "execution_count": 25,
   "metadata": {},
   "outputs": [],
   "source": [
    "def complex_contour_vector(img):\n",
    "    n,m = img.shape\n",
    "    contour_img = contour_detection(img)\n",
    "    uk = []\n",
    "    indexes = []\n",
    "    for i in range(n):\n",
    "        for j in range(m):\n",
    "            if contour_img[i,j] == 1:\n",
    "                ordered = region_growing(contour_img,(i,j),0.5)\n",
    "                for k in ordered:\n",
    "                    indexes.append(k)\n",
    "                    contour_img[k[0],k[1]] = 0\n",
    "    \n",
    "    for k in indexes:\n",
    "        uk.append(np.vectorize(complex)(k[0],k[1]))\n",
    "    uk = np.array(uk)\n",
    "    \n",
    "\n",
    "    return uk, indexes"
   ]
  },
  {
   "cell_type": "markdown",
   "metadata": {},
   "source": [
    "#### Compute and plot DFT (FFT) : "
   ]
  },
  {
   "cell_type": "code",
   "execution_count": 26,
   "metadata": {},
   "outputs": [],
   "source": [
    "def dft_computation(img,n_descriptor=2):\n",
    "    uk, indexes = complex_contour_vector(img)\n",
    "    sp = np.fft.fft(uk)\n",
    "    freq = np.fft.fftfreq(len(uk))\n",
    "    sp[1+n_descriptor:]=0\n",
    "    sp[0]=0\n",
    "    inverse_vector = np.fft.ifft(sp)\n",
    "    dummy_img = np.zeros(img.shape)\n",
    "    counter = 0\n",
    "    \n",
    "    for i,j in indexes:\n",
    "        dummy_img[i,j] = inverse_vector[counter]\n",
    "        counter += 1\n",
    "    \n",
    "    return sp[1:1+n_descriptor], freq, dummy_img"
   ]
  },
  {
   "cell_type": "code",
   "execution_count": 27,
   "metadata": {},
   "outputs": [
    {
     "name": "stderr",
     "output_type": "stream",
     "text": [
      "/opt/anaconda3/lib/python3.7/site-packages/ipykernel_launcher.py:12: ComplexWarning: Casting complex values to real discards the imaginary part\n",
      "  if sys.path[0] == '':\n"
     ]
    },
    {
     "data": {
      "text/plain": [
       "<matplotlib.image.AxesImage at 0x1c20e90450>"
      ]
     },
     "execution_count": 27,
     "metadata": {},
     "output_type": "execute_result"
    },
    {
     "data": {
      "image/png": "[encoded data removed]",
      "text/plain": [
       "<Figure size 432x288 with 1 Axes>"
      ]
     },
     "metadata": {
      "needs_background": "light"
     },
     "output_type": "display_data"
    }
   ],
   "source": [
    "im = zeros_im[8]\n",
    "sp , freq , inverse_img = dft_computation(im)\n",
    "plt.imshow(inverse_img,cmap='gray')"
   ]
  },
  {
   "cell_type": "markdown",
   "metadata": {},
   "source": [
    "#### Classify according to the two selected features"
   ]
  },
  {
   "cell_type": "code",
   "execution_count": 28,
   "metadata": {},
   "outputs": [
    {
     "name": "stderr",
     "output_type": "stream",
     "text": [
      "/opt/anaconda3/lib/python3.7/site-packages/ipykernel_launcher.py:12: ComplexWarning: Casting complex values to real discards the imaginary part\n",
      "  if sys.path[0] == '':\n"
     ]
    }
   ],
   "source": [
    "features = []\n",
    "images = np.append(zeros_im,ones_im,axis = 0)\n",
    "for im in images:\n",
    "    sp, _, _ = dft_computation(im)\n",
    "    features.append(sp)\n",
    "features = np.array(features)"
   ]
  },
  {
   "cell_type": "code",
   "execution_count": 29,
   "metadata": {},
   "outputs": [
    {
     "ename": "SyntaxError",
     "evalue": "invalid syntax (<ipython-input-29-abefa8d9bb1a>, line 1)",
     "output_type": "error",
     "traceback": [
      "\u001b[0;36m  File \u001b[0;32m\"<ipython-input-29-abefa8d9bb1a>\"\u001b[0;36m, line \u001b[0;32m1\u001b[0m\n\u001b[0;31m    .shape\u001b[0m\n\u001b[0m    ^\u001b[0m\n\u001b[0;31mSyntaxError\u001b[0m\u001b[0;31m:\u001b[0m invalid syntax\n"
     ]
    }
   ],
   "source": [
    ".shape"
   ]
  },
  {
   "cell_type": "code",
   "execution_count": 32,
   "metadata": {},
   "outputs": [
    {
     "name": "stderr",
     "output_type": "stream",
     "text": [
      "/opt/anaconda3/lib/python3.7/site-packages/ipykernel_launcher.py:12: ComplexWarning: Casting complex values to real discards the imaginary part\n",
      "  if sys.path[0] == '':\n"
     ]
    },
    {
     "data": {
      "text/plain": [
       "<matplotlib.collections.PathCollection at 0x1c28860550>"
      ]
     },
     "execution_count": 32,
     "metadata": {},
     "output_type": "execute_result"
    },
    {
     "data": {
      "image/png": "[encoded data removed]",
      "text/plain": [
       "<Figure size 432x288 with 1 Axes>"
      ]
     },
     "metadata": {
      "needs_background": "light"
     },
     "output_type": "display_data"
    }
   ],
   "source": [
    "features = []\n",
    "images = np.append(zeros_im,ones_im,axis = 0)\n",
    "for im in images:\n",
    "    sp, _, _ = dft_computation(im)\n",
    "    features.append(sp)\n",
    "features = np.array(features)\n",
    "X = np.append(features.real,features.imag,axis=1)\n",
    "\n",
    "kmeans = KMeans(n_clusters=2, random_state=0).fit(np.absolute(features))\n",
    "kmeans.labels_\n",
    "LABEL_COLOR_MAP = {0 : 'r', 1 : 'k'}\n",
    "label_color = [LABEL_COLOR_MAP[l] for l in kmeans.labels_]\n",
    "plt.scatter(np.absolute(features[:,0]),np.absolute(features[:,1]), c = label_color)"
   ]
  },
  {
   "cell_type": "code",
   "execution_count": 34,
   "metadata": {},
   "outputs": [
    {
     "data": {
      "image/png": "[encoded data removed]",
      "text/plain": [
       "<Figure size 1728x216 with 40 Axes>"
      ]
     },
     "metadata": {
      "needs_background": "light"
     },
     "output_type": "display_data"
    }
   ],
   "source": [
    "LABEL_NAME_MAP =  {1 : 'One', 0 : 'Zero'}\n",
    "img_name = [LABEL_NAME_MAP[l] for l in kmeans.labels_]\n",
    "\n",
    "fig, axes = plt.subplots(2, len(images), figsize=(24, 3))\n",
    "for ax, im, nm in zip(axes[0], images, img_name):\n",
    "    ax.imshow(im, cmap='gray')\n",
    "    ax.axis('off')\n",
    "    ax.set_title(nm)\n",
    "    \n",
    "for ax, im, nm in zip(axes[1], images, img_name):\n",
    "    ax.imshow(contour_detection(im), cmap='gray')\n",
    "    ax.axis('off')\n",
    "    ax.set_title(nm)"
   ]
  },
  {
   "cell_type": "markdown",
   "metadata": {},
   "source": [
    "### 1.3 Additional method(s)\n",
    "Add your implementation and discussion"
   ]
  },
  {
   "cell_type": "markdown",
   "metadata": {},
   "source": [
    "# Distance between contours"
   ]
  },
  {
   "cell_type": "code",
   "execution_count": null,
   "metadata": {},
   "outputs": [],
   "source": []
  },
  {
   "cell_type": "markdown",
   "metadata": {},
   "source": [
    "# Chain code"
   ]
  },
  {
   "cell_type": "code",
   "execution_count": null,
   "metadata": {},
   "outputs": [],
   "source": []
  },
  {
   "cell_type": "markdown",
   "metadata": {},
   "source": [
    "# Edition distance"
   ]
  },
  {
   "cell_type": "code",
   "execution_count": null,
   "metadata": {},
   "outputs": [],
   "source": []
  },
  {
   "cell_type": "markdown",
   "metadata": {},
   "source": [
    "# Region-based descriptors "
   ]
  },
  {
   "cell_type": "code",
   "execution_count": null,
   "metadata": {},
   "outputs": [],
   "source": []
  },
  {
   "cell_type": "markdown",
   "metadata": {},
   "source": [
    "## Part 2\n",
    "The `lab-02-data/part2` folder contains grey-scale pictures of handwritten \"2\" and \"3\".\n",
    "Extract the same feature (typically 2 Fourier descriptors) as in part 1 also on these images and plot them on the same graph as the features of the \"0\" and \"1\".\n",
    "Is it possible to discriminate all these 4 digits with a 2-dimensional feature vector?"
   ]
  },
  {
   "cell_type": "markdown",
   "metadata": {},
   "source": [
    "### 2.1 Data visualization"
   ]
  },
  {
   "cell_type": "code",
   "execution_count": 35,
   "metadata": {},
   "outputs": [
    {
     "data": {
      "image/png": "[encoded data removed]",
      "text/plain": [
       "<Figure size 864x216 with 20 Axes>"
      ]
     },
     "metadata": {
      "needs_background": "light"
     },
     "output_type": "display_data"
    }
   ],
   "source": [
    "#  Load zeros\n",
    "twos_path = os.path.join(data_base_path, data_folder, 'part2', '2')\n",
    "twos_names = [nm for nm in os.listdir(twos_path) if '.png' in nm]  # make sure to only load .png\n",
    "twos_names.sort()  # sort file names\n",
    "ic = skimage.io.imread_collection([os.path.join(twos_path, nm) for nm in twos_names])\n",
    "twos_im = skimage.io.concatenate_images(ic)\n",
    "#  Load ones\n",
    "threes_path = os.path.join(data_base_path, data_folder, 'part2', '3')\n",
    "threes_names = [nm for nm in os.listdir(threes_path) if '.png' in nm]  # make sure to only load .png\n",
    "threes_names.sort()  # sort file names\n",
    "ic = skimage.io.imread_collection(([os.path.join(threes_path, nm) for nm in threes_names]))\n",
    "threes_im = skimage.io.concatenate_images(ic)\n",
    "\n",
    "# Plot images\n",
    "fig, axes = plt.subplots(2, len(twos_im), figsize=(12, 3))\n",
    "for ax, im, nm in zip(axes[0], twos_im, twos_names):\n",
    "    ax.imshow(contour_detection(im), cmap='gray')\n",
    "    ax.axis('off')\n",
    "    ax.set_title(nm)\n",
    "for ax, im, nm in zip(axes[1], threes_im, threes_names):\n",
    "    ax.imshow(contour_detection(im), cmap='gray')\n",
    "    ax.axis('off')\n",
    "    ax.set_title(nm)"
   ]
  },
  {
   "cell_type": "markdown",
   "metadata": {},
   "source": [
    "### 2.2 Additional method(s) and conclusion\n",
    "Add your implementations and discussions here"
   ]
  },
  {
   "cell_type": "code",
   "execution_count": 40,
   "metadata": {},
   "outputs": [
    {
     "name": "stderr",
     "output_type": "stream",
     "text": [
      "/opt/anaconda3/lib/python3.7/site-packages/ipykernel_launcher.py:12: ComplexWarning: Casting complex values to real discards the imaginary part\n",
      "  if sys.path[0] == '':\n"
     ]
    },
    {
     "data": {
      "text/plain": [
       "<matplotlib.collections.PathCollection at 0x102fd3150>"
      ]
     },
     "execution_count": 40,
     "metadata": {},
     "output_type": "execute_result"
    },
    {
     "data": {
      "image/png": "[encoded data removed]",
      "text/plain": [
       "<Figure size 432x288 with 1 Axes>"
      ]
     },
     "metadata": {
      "needs_background": "light"
     },
     "output_type": "display_data"
    }
   ],
   "source": [
    "features = []\n",
    "images = np.append(zeros_im,ones_im,axis = 0)\n",
    "images = np.append(images,twos_im,axis = 0)\n",
    "images = np.append(images,threes_im,axis = 0)\n",
    "images = np.append(twos_im,threes_im,axis = 0)\n",
    "\n",
    "for im in images:\n",
    "    sp, _, _ = dft_computation(im)\n",
    "    features.append(sp)\n",
    "features = np.array(features)\n",
    "X = np.append(features.real,features.imag,axis=1)\n",
    "\n",
    "kmeans = KMeans(n_clusters=2, random_state=0).fit(np.absolute(features))\n",
    "kmeans.labels_\n",
    "LABEL_COLOR_MAP = {0 : 'r', 1 : 'k', 2: 'b', 3: 'g'}\n",
    "label_color = [LABEL_COLOR_MAP[l] for l in kmeans.labels_]\n",
    "plt.scatter(np.absolute(features[:,0]),np.absolute(features[:,1]), c = label_color)"
   ]
  },
  {
   "cell_type": "code",
   "execution_count": 41,
   "metadata": {},
   "outputs": [
    {
     "data": {
      "text/plain": [
       "array([[ -27.93798411-408.75263679j, -403.5393553 +111.15218006j],\n",
       "       [ -62.10897773-341.86349629j, -101.45789697+395.38163674j],\n",
       "       [-285.39629615-485.94515083j, -244.45074101+328.82699001j],\n",
       "       [-219.2987407 -620.8227939j , -123.75178564+335.20754013j],\n",
       "       [-261.93341697-472.82666327j, -136.89355633+274.06736999j],\n",
       "       [-292.31919163-356.69601665j,   76.15744133+368.21717318j],\n",
       "       [ -54.64009353-390.91164538j, -244.60356444 +60.32987923j],\n",
       "       [-180.58007396-600.58832817j, -206.73149924+157.23735551j],\n",
       "       [-367.66379503-373.47609181j,  -11.20716732+304.22101852j],\n",
       "       [-212.70764338-376.21750273j,  -62.71900445+352.46756197j],\n",
       "       [-439.9906227 -220.64585616j,  287.55095023+229.00748062j],\n",
       "       [-216.66482559-273.46777393j,   13.99770672+301.78853202j],\n",
       "       [-327.13913133-464.73313029j,  -16.06856707+370.86623728j],\n",
       "       [-413.25312291-439.66400453j,   64.5602175 +394.82613764j],\n",
       "       [-166.08041686-438.84233959j, -202.34478094+128.50562208j],\n",
       "       [  -2.22892306-281.87380522j, -287.31788118+181.55879977j],\n",
       "       [-159.59189744-406.91889144j, -159.05906609+375.55748575j],\n",
       "       [-282.56085974-231.21950868j, -137.67664927+319.89770485j],\n",
       "       [-108.14910751-315.2409466j , -256.25546125+225.61205279j],\n",
       "       [-179.9814432 -444.15680087j, -177.89696696+275.88421991j]])"
      ]
     },
     "execution_count": 41,
     "metadata": {},
     "output_type": "execute_result"
    }
   ],
   "source": [
    "features"
   ]
  },
  {
   "cell_type": "code",
   "execution_count": 42,
   "metadata": {},
   "outputs": [
    {
     "data": {
      "image/png": "[encoded data removed]",
      "text/plain": [
       "<Figure size 1728x216 with 20 Axes>"
      ]
     },
     "metadata": {
      "needs_background": "light"
     },
     "output_type": "display_data"
    }
   ],
   "source": [
    "LABEL_NAME_MAP =  {0 : 'Two', 1 : 'Three', 2 : 'One', 3 : 'Zero'}\n",
    "img_name = [LABEL_NAME_MAP[l] for l in kmeans.labels_]\n",
    "\n",
    "fig, axes = plt.subplots(1, len(images), figsize=(24, 3))\n",
    "\n",
    "for ax, im, nm in zip(axes, images, img_name):\n",
    "    ax.imshow(contour_detection(im), cmap='gray')\n",
    "    ax.axis('off')\n",
    "    ax.set_title(nm)"
   ]
  },
  {
   "cell_type": "code",
   "execution_count": 39,
   "metadata": {},
   "outputs": [
    {
     "data": {
      "text/plain": [
       "(20, 28, 28)"
      ]
     },
     "execution_count": 39,
     "metadata": {},
     "output_type": "execute_result"
    }
   ],
   "source": [
    "images.shape"
   ]
  },
  {
   "cell_type": "code",
   "execution_count": null,
   "metadata": {},
   "outputs": [],
   "source": []
  }
 ],
 "metadata": {
  "kernelspec": {
   "display_name": "Python 3",
   "language": "python",
   "name": "python3"
  },
  "language_info": {
   "codemirror_mode": {
    "name": "ipython",
    "version": 3
   },
   "file_extension": ".py",
   "mimetype": "text/x-python",
   "name": "python",
   "nbconvert_exporter": "python",
   "pygments_lexer": "ipython3",
   "version": "3.7.4"
  }
 },
 "nbformat": 4,
 "nbformat_minor": 2
}
