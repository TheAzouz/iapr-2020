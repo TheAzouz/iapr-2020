{
 "cells": [
  {
   "cell_type": "code",
   "execution_count": 1,
   "metadata": {},
   "outputs": [],
   "source": [
    "import tensorflow as tf\n",
    "from tensorflow.keras.models import Sequential\n",
    "from tensorflow.keras import layers\n",
    "from tensorflow.keras.preprocessing.image import ImageDataGenerator\n",
    "\n",
    "import tarfile\n",
    "import os\n",
    "import gzip\n",
    "import numpy as np\n",
    "import matplotlib.pyplot as plt"
   ]
  },
  {
   "cell_type": "code",
   "execution_count": 2,
   "metadata": {},
   "outputs": [],
   "source": [
    "data_base_path = os.path.join(os.pardir, 'data')\n",
    "data_folder = 'lab-03-data'\n",
    "tar_path = os.path.join(data_base_path, data_folder + '.tar.gz')\n",
    "with tarfile.open(tar_path, mode='r:gz') as tar:\n",
    "    tar.extractall(path=data_base_path)"
   ]
  },
  {
   "cell_type": "code",
   "execution_count": 3,
   "metadata": {},
   "outputs": [],
   "source": [
    "def extract_data(filename, image_shape, image_number):\n",
    "    with gzip.open(filename) as bytestream:\n",
    "        bytestream.read(16)\n",
    "        buf = bytestream.read(np.prod(image_shape) * image_number)\n",
    "        data = np.frombuffer(buf, dtype=np.uint8).astype(np.float32)\n",
    "        data = data.reshape(image_number, image_shape[0], image_shape[1])\n",
    "    return data\n",
    "\n",
    "\n",
    "def extract_labels(filename, image_number):\n",
    "    with gzip.open(filename) as bytestream:\n",
    "        bytestream.read(8)\n",
    "        buf = bytestream.read(1 * image_number)\n",
    "        labels = np.frombuffer(buf, dtype=np.uint8).astype(np.int64)\n",
    "    return labels"
   ]
  },
  {
   "cell_type": "code",
   "execution_count": 4,
   "metadata": {},
   "outputs": [],
   "source": [
    "image_shape = (28, 28)\n",
    "train_set_size = 60000\n",
    "test_set_size = 10000\n",
    "\n",
    "data_part2_folder = os.path.join(data_base_path, data_folder, 'part2')\n",
    "\n",
    "train_images_path = os.path.join(data_part2_folder, 'train-images-idx3-ubyte.gz')\n",
    "train_labels_path = os.path.join(data_part2_folder, 'train-labels-idx1-ubyte.gz')\n",
    "test_images_path = os.path.join(data_part2_folder, 't10k-images-idx3-ubyte.gz')\n",
    "test_labels_path = os.path.join(data_part2_folder, 't10k-labels-idx1-ubyte.gz')\n",
    "\n",
    "train_images = extract_data(train_images_path, image_shape, train_set_size)\n",
    "test_images = extract_data(test_images_path, image_shape, test_set_size)\n",
    "train_labels = extract_labels(train_labels_path, train_set_size)\n",
    "test_labels = extract_labels(test_labels_path, test_set_size)"
   ]
  },
  {
   "cell_type": "code",
   "execution_count": 5,
   "metadata": {},
   "outputs": [],
   "source": [
    "X_train = np.array(train_images)\n",
    "X_test = np.array(test_images)\n",
    "\n",
    "N_train, w, h = X_train.shape\n",
    "N_test,_,_ = X_test.shape\n",
    "\n",
    "x_train = np.array(train_images).reshape(N_train,w,h,1)\n",
    "x_test = np.array(test_images).reshape(N_test,w,h,1)\n",
    "\n",
    "y_train = np.zeros((N_train,10))\n",
    "for n, i in enumerate(train_labels):\n",
    "    y_train[n][i] = 1\n",
    "    \n",
    "y_test = np.zeros((N_test,10))\n",
    "for n, i in enumerate(test_labels):\n",
    "    y_test[n][i] = 1"
   ]
  },
  {
   "cell_type": "code",
   "execution_count": 87,
   "metadata": {},
   "outputs": [],
   "source": [
    "def train_model(x_train,y_train,x_test,y_test):\n",
    "    \n",
    "    IMG_HEIGHT = 28\n",
    "    IMG_WIDTH = 28\n",
    "    \n",
    "    model = Sequential()\n",
    "\n",
    "    model.add(layers.Conv2D(filters=6, kernel_size=(5, 5), activation='relu', input_shape=(28,28,1)))\n",
    "    model.add(layers.AveragePooling2D())\n",
    "    model.add(layers.Conv2D(filters=16, kernel_size=(5, 5), activation='relu'))\n",
    "    model.add(layers.AveragePooling2D())\n",
    "    model.add(layers.Conv2D(filters=120, kernel_size=(3, 3), activation='relu'))\n",
    "    model.add(layers.Flatten())\n",
    "    model.add(layers.Dense(units=84, activation='relu'))\n",
    "    model.add(layers.Dense(units=10, activation = 'softmax'))\n",
    "    \n",
    "    model.compile(optimizer='sgd',\n",
    "                  loss='categorical_crossentropy',\n",
    "                  metrics=['accuracy'])\n",
    "    \n",
    "    datagen = ImageDataGenerator(rotation_range=360, zoom_range = 0.2)\n",
    "    training_data = datagen.flow(x_train,y_train,batch_size = 100)\n",
    "    testing_data = datagen.flow(x_test,y_test,batch_size = 100)\n",
    "    \n",
    "    epochs = 50\n",
    "    history = model.fit(training_data, epochs=epochs, validation_data = testing_data)\n",
    "    \n",
    "    model.save('LeNet_Model')\n",
    "    \n",
    "    return model"
   ]
  },
  {
   "cell_type": "code",
   "execution_count": 88,
   "metadata": {},
   "outputs": [
    {
     "name": "stdout",
     "output_type": "stream",
     "text": [
      "Train for 600 steps, validate for 100 steps\n",
      "Epoch 1/50\n",
      "600/600 [==============================] - 29s 48ms/step - loss: 1.5343 - accuracy: 0.4735 - val_loss: 0.7829 - val_accuracy: 0.7449\n",
      "Epoch 2/50\n",
      "600/600 [==============================] - 28s 46ms/step - loss: 0.6160 - accuracy: 0.8036 - val_loss: 0.4365 - val_accuracy: 0.8581\n",
      "Epoch 3/50\n",
      "600/600 [==============================] - 27s 46ms/step - loss: 0.4272 - accuracy: 0.8660 - val_loss: 0.3307 - val_accuracy: 0.8933\n",
      "Epoch 4/50\n",
      "600/600 [==============================] - 28s 46ms/step - loss: 0.3529 - accuracy: 0.8905 - val_loss: 0.2922 - val_accuracy: 0.9061\n",
      "Epoch 5/50\n",
      "600/600 [==============================] - 28s 46ms/step - loss: 0.3097 - accuracy: 0.9039 - val_loss: 0.2818 - val_accuracy: 0.9126\n",
      "Epoch 6/50\n",
      "600/600 [==============================] - 27s 45ms/step - loss: 0.2775 - accuracy: 0.9123 - val_loss: 0.2641 - val_accuracy: 0.9137\n",
      "Epoch 7/50\n",
      "600/600 [==============================] - 28s 47ms/step - loss: 0.2571 - accuracy: 0.9180 - val_loss: 0.2251 - val_accuracy: 0.9273\n",
      "Epoch 8/50\n",
      "600/600 [==============================] - 27s 45ms/step - loss: 0.2446 - accuracy: 0.9236 - val_loss: 0.2193 - val_accuracy: 0.9298\n",
      "Epoch 9/50\n",
      "600/600 [==============================] - 27s 45ms/step - loss: 0.2275 - accuracy: 0.9281 - val_loss: 0.2085 - val_accuracy: 0.9352\n",
      "Epoch 10/50\n",
      "600/600 [==============================] - 27s 46ms/step - loss: 0.2210 - accuracy: 0.9312 - val_loss: 0.2107 - val_accuracy: 0.9350\n",
      "Epoch 11/50\n",
      "600/600 [==============================] - 26s 43ms/step - loss: 0.2097 - accuracy: 0.9342 - val_loss: 0.1949 - val_accuracy: 0.9369\n",
      "Epoch 12/50\n",
      "600/600 [==============================] - 26s 43ms/step - loss: 0.2041 - accuracy: 0.9365 - val_loss: 0.1898 - val_accuracy: 0.9385\n",
      "Epoch 13/50\n",
      "600/600 [==============================] - 25s 42ms/step - loss: 0.1925 - accuracy: 0.9402 - val_loss: 0.1742 - val_accuracy: 0.9447\n",
      "Epoch 14/50\n",
      "600/600 [==============================] - 26s 43ms/step - loss: 0.1896 - accuracy: 0.9404 - val_loss: 0.1781 - val_accuracy: 0.9438\n",
      "Epoch 15/50\n",
      "600/600 [==============================] - 27s 45ms/step - loss: 0.1808 - accuracy: 0.9440 - val_loss: 0.1815 - val_accuracy: 0.9430\n",
      "Epoch 16/50\n",
      "600/600 [==============================] - 27s 44ms/step - loss: 0.1793 - accuracy: 0.9438 - val_loss: 0.1608 - val_accuracy: 0.9506\n",
      "Epoch 17/50\n",
      "600/600 [==============================] - 25s 42ms/step - loss: 0.1732 - accuracy: 0.9456 - val_loss: 0.1599 - val_accuracy: 0.9516\n",
      "Epoch 18/50\n",
      "600/600 [==============================] - 26s 44ms/step - loss: 0.1707 - accuracy: 0.9473 - val_loss: 0.1780 - val_accuracy: 0.9463\n",
      "Epoch 19/50\n",
      "600/600 [==============================] - 27s 46ms/step - loss: 0.1644 - accuracy: 0.9490 - val_loss: 0.1514 - val_accuracy: 0.9535\n",
      "Epoch 20/50\n",
      "600/600 [==============================] - 28s 46ms/step - loss: 0.1623 - accuracy: 0.9499 - val_loss: 0.1458 - val_accuracy: 0.9532\n",
      "Epoch 21/50\n",
      "600/600 [==============================] - 27s 46ms/step - loss: 0.1609 - accuracy: 0.9491 - val_loss: 0.1505 - val_accuracy: 0.9520\n",
      "Epoch 22/50\n",
      "600/600 [==============================] - 27s 45ms/step - loss: 0.1550 - accuracy: 0.9513 - val_loss: 0.1488 - val_accuracy: 0.9515\n",
      "Epoch 23/50\n",
      "600/600 [==============================] - 26s 44ms/step - loss: 0.1522 - accuracy: 0.9535 - val_loss: 0.1402 - val_accuracy: 0.9572\n",
      "Epoch 24/50\n",
      "600/600 [==============================] - 28s 46ms/step - loss: 0.1493 - accuracy: 0.9537 - val_loss: 0.1335 - val_accuracy: 0.9585\n",
      "Epoch 25/50\n",
      "600/600 [==============================] - 28s 47ms/step - loss: 0.1472 - accuracy: 0.9539 - val_loss: 0.1448 - val_accuracy: 0.9548\n",
      "Epoch 26/50\n",
      "600/600 [==============================] - 26s 44ms/step - loss: 0.1458 - accuracy: 0.9545 - val_loss: 0.1321 - val_accuracy: 0.9592\n",
      "Epoch 27/50\n",
      "600/600 [==============================] - 29s 48ms/step - loss: 0.1437 - accuracy: 0.9549 - val_loss: 0.1455 - val_accuracy: 0.9546\n",
      "Epoch 28/50\n",
      "600/600 [==============================] - 31s 52ms/step - loss: 0.1404 - accuracy: 0.9561 - val_loss: 0.1319 - val_accuracy: 0.9588\n",
      "Epoch 29/50\n",
      "600/600 [==============================] - 24s 39ms/step - loss: 0.1387 - accuracy: 0.9564 - val_loss: 0.1379 - val_accuracy: 0.9599\n",
      "Epoch 30/50\n",
      "600/600 [==============================] - 23s 38ms/step - loss: 0.1364 - accuracy: 0.9575 - val_loss: 0.1328 - val_accuracy: 0.9585\n",
      "Epoch 31/50\n",
      "600/600 [==============================] - 23s 38ms/step - loss: 0.1363 - accuracy: 0.9569 - val_loss: 0.1404 - val_accuracy: 0.9540\n",
      "Epoch 32/50\n",
      "600/600 [==============================] - 23s 38ms/step - loss: 0.1334 - accuracy: 0.9583 - val_loss: 0.1235 - val_accuracy: 0.9609\n",
      "Epoch 33/50\n",
      "600/600 [==============================] - 23s 38ms/step - loss: 0.1346 - accuracy: 0.9591 - val_loss: 0.1249 - val_accuracy: 0.9609\n",
      "Epoch 34/50\n",
      "600/600 [==============================] - 22s 37ms/step - loss: 0.1297 - accuracy: 0.9597 - val_loss: 0.1251 - val_accuracy: 0.9626\n",
      "Epoch 35/50\n",
      "600/600 [==============================] - 23s 38ms/step - loss: 0.1266 - accuracy: 0.9600 - val_loss: 0.1282 - val_accuracy: 0.9631\n",
      "Epoch 36/50\n",
      "600/600 [==============================] - 23s 38ms/step - loss: 0.1279 - accuracy: 0.9604 - val_loss: 0.1201 - val_accuracy: 0.9625\n",
      "Epoch 37/50\n",
      "600/600 [==============================] - 23s 39ms/step - loss: 0.1263 - accuracy: 0.9614 - val_loss: 0.1323 - val_accuracy: 0.9599\n",
      "Epoch 38/50\n",
      "600/600 [==============================] - 22s 36ms/step - loss: 0.1260 - accuracy: 0.9612 - val_loss: 0.1225 - val_accuracy: 0.9619\n",
      "Epoch 39/50\n",
      "600/600 [==============================] - 23s 38ms/step - loss: 0.1241 - accuracy: 0.9613 - val_loss: 0.1204 - val_accuracy: 0.9616\n",
      "Epoch 40/50\n",
      "600/600 [==============================] - 23s 38ms/step - loss: 0.1227 - accuracy: 0.9613 - val_loss: 0.1261 - val_accuracy: 0.9596\n",
      "Epoch 41/50\n",
      "600/600 [==============================] - 23s 38ms/step - loss: 0.1215 - accuracy: 0.9627 - val_loss: 0.1257 - val_accuracy: 0.9621\n",
      "Epoch 42/50\n",
      "600/600 [==============================] - 23s 39ms/step - loss: 0.1197 - accuracy: 0.9627 - val_loss: 0.1219 - val_accuracy: 0.9637\n",
      "Epoch 43/50\n",
      "600/600 [==============================] - 23s 38ms/step - loss: 0.1173 - accuracy: 0.9629 - val_loss: 0.1161 - val_accuracy: 0.9647\n",
      "Epoch 44/50\n",
      "600/600 [==============================] - 23s 38ms/step - loss: 0.1187 - accuracy: 0.9628 - val_loss: 0.1231 - val_accuracy: 0.9602\n",
      "Epoch 45/50\n",
      "600/600 [==============================] - 23s 38ms/step - loss: 0.1165 - accuracy: 0.9640 - val_loss: 0.1162 - val_accuracy: 0.9625\n",
      "Epoch 46/50\n",
      "600/600 [==============================] - 23s 38ms/step - loss: 0.1153 - accuracy: 0.9648 - val_loss: 0.1181 - val_accuracy: 0.9643\n",
      "Epoch 47/50\n",
      "600/600 [==============================] - 23s 39ms/step - loss: 0.1143 - accuracy: 0.9641 - val_loss: 0.1192 - val_accuracy: 0.9617\n",
      "Epoch 48/50\n",
      "600/600 [==============================] - 23s 39ms/step - loss: 0.1153 - accuracy: 0.9635 - val_loss: 0.1131 - val_accuracy: 0.9643\n",
      "Epoch 49/50\n",
      "600/600 [==============================] - 23s 38ms/step - loss: 0.1121 - accuracy: 0.9651 - val_loss: 0.1069 - val_accuracy: 0.9677\n",
      "Epoch 50/50\n",
      "600/600 [==============================] - 23s 38ms/step - loss: 0.1095 - accuracy: 0.9653 - val_loss: 0.1092 - val_accuracy: 0.9662\n",
      "INFO:tensorflow:Assets written to: LeNet_Model/assets\n"
     ]
    }
   ],
   "source": [
    "model = train_model(x_train,y_train,x_test,y_test)"
   ]
  },
  {
   "cell_type": "code",
   "execution_count": 102,
   "metadata": {},
   "outputs": [
    {
     "data": {
      "text/plain": [
       "array([0, 1, 2, 3, 4, 5, 6, 7, 8, 9])"
      ]
     },
     "execution_count": 102,
     "metadata": {},
     "output_type": "execute_result"
    }
   ],
   "source": [
    "np.unique(test_labels)"
   ]
  },
  {
   "cell_type": "code",
   "execution_count": null,
   "metadata": {},
   "outputs": [],
   "source": []
  }
 ],
 "metadata": {
  "kernelspec": {
   "display_name": "Python 3",
   "language": "python",
   "name": "python3"
  },
  "language_info": {
   "codemirror_mode": {
    "name": "ipython",
    "version": 3
   },
   "file_extension": ".py",
   "mimetype": "text/x-python",
   "name": "python",
   "nbconvert_exporter": "python",
   "pygments_lexer": "ipython3",
   "version": "3.7.4"
  }
 },
 "nbformat": 4,
 "nbformat_minor": 2
}
